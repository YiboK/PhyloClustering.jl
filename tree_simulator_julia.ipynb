{
 "cells": [
  {
   "cell_type": "code",
   "execution_count": 1,
   "id": "c5f28c32",
   "metadata": {},
   "outputs": [],
   "source": [
    "using PhyloNetworks\n",
    "using PhyloPlots\n",
    "using PhyloCoalSimulations\n",
    "using Combinatorics\n",
    "using Formatting\n",
    "trees = readMultiTopology(\"data/rawdata/4taxa_trees.tre\");"
   ]
  },
  {
   "cell_type": "code",
   "execution_count": 2,
   "id": "0487e7bf",
   "metadata": {},
   "outputs": [
    {
     "data": {
      "text/plain": [
       "HybridNetwork, Rooted Network\n",
       "6 edges\n",
       "7 nodes: 4 tips, 0 hybrid nodes, 3 internal tree nodes.\n",
       "tip labels: 4, 3, 1, 2\n",
       "(4:3.866,(3:1.593,(1:1.208,2:1.208):0.386):2.273);\n"
      ]
     },
     "execution_count": 2,
     "metadata": {},
     "output_type": "execute_result"
    }
   ],
   "source": [
    "trees[1]"
   ]
  },
  {
   "cell_type": "code",
   "execution_count": 3,
   "id": "8ee3e0e3",
   "metadata": {},
   "outputs": [
    {
     "data": {
      "image/png": "[encoded data removed]"
     },
     "metadata": {},
     "output_type": "display_data"
    },
    {
     "data": {
      "image/png": "[encoded data removed]"
     },
     "metadata": {},
     "output_type": "display_data"
    },
    {
     "data": {
      "image/png": "[encoded data removed]"
     },
     "metadata": {},
     "output_type": "display_data"
    },
    {
     "data": {
      "image/png": "[encoded data removed]"
     },
     "metadata": {},
     "output_type": "display_data"
    }
   ],
   "source": [
    "tree_1 = readTopology(\"(8:11.118,((3:4.485,(1:1.976,2:1.976):2.509):1.783,(4:4.911,(5:3.208,(6:1.666,7:1.666):1.541):1.704):1.357):4.850);\");\n",
    "tree_2 = readTopology(\"(8:11.087,((4:4.537,(7:3.051,(5:1.855,6:1.855):1.196):1.486):2.953,(1:5.314,(2:2.383,3:2.383):2.931):2.176):3.597);\");\n",
    "tree_3 = readTopology(\"(((1:1.8,2:1.8):2.2,(3:0.7,4:0.7):3.3):2,((5:3.7,6:3.7):1.3,(7:2.3,8:2.3):2.7):1);\");\n",
    "tree_4 = readTopology(\"(((((1:1.7,2:1.7):0.8,3:2.5):1.3,4:3.8):3.2,(((5:0.6,6:0.6):2.9,7:3.5):1.3,8:4.8):2.2));\");\n",
    "plot(tree_1, :R, showEdgeLength=true);\n",
    "plot(tree_2, :R, showEdgeLength=true);\n",
    "plot(tree_3, :R, showEdgeLength=true);\n",
    "plot(tree_4, :R, showEdgeLength=true);"
   ]
  },
  {
   "cell_type": "code",
   "execution_count": 4,
   "id": "e1bad144",
   "metadata": {},
   "outputs": [],
   "source": [
    "trees_1 = simulatecoalescent(tree_1, 100, 1);\n",
    "trees_2 = simulatecoalescent(tree_2, 100, 1);\n",
    "trees_3 = simulatecoalescent(tree_3, 100, 1);\n",
    "trees_4 = simulatecoalescent(tree_4, 100, 1);\n",
    "writeMultiTopology(trees_1, \"./data/rawdata/8_taxa_1.trees\")\n",
    "writeMultiTopology(trees_2, \"./data/rawdata/8_taxa_2.trees\")\n",
    "writeMultiTopology(trees_3, \"./data/rawdata/8_taxa_3.trees\")\n",
    "writeMultiTopology(trees_4, \"./data/rawdata/8_taxa_4.trees\")"
   ]
  },
  {
   "cell_type": "code",
   "execution_count": 5,
   "id": "a36e36b5",
   "metadata": {},
   "outputs": [
    {
     "data": {
      "image/png": "[encoded data removed]"
     },
     "metadata": {},
     "output_type": "display_data"
    },
    {
     "data": {
      "image/png": "[encoded data removed]"
     },
     "metadata": {},
     "output_type": "display_data"
    },
    {
     "data": {
      "image/png": "[encoded data removed]"
     },
     "metadata": {},
     "output_type": "display_data"
    }
   ],
   "source": [
    "tree_1 = readTopology(\"((4:2.5,5:2.5):1.5,(3:1.6,(1:1.2,2:1.2):0.4):2.4);\");\n",
    "tree_2 = readTopology(\"(((3:0.8,2:0.8):2.2,(1:1.7, 4:1.7):1.3):1,5:4);\");\n",
    "tree_3 = readTopology(\"((((1:1.4,3:1.4):0.6,2:2):1.2,4:3.2):0.8,5:4);\");\n",
    "plot(tree_1, :R, showEdgeLength=true);\n",
    "plot(tree_2, :R, showEdgeLength=true);\n",
    "plot(tree_3, :R, showEdgeLength=true);"
   ]
  },
  {
   "cell_type": "code",
   "execution_count": 6,
   "id": "7f1819e2",
   "metadata": {},
   "outputs": [],
   "source": [
    "trees_1 = simulatecoalescent(tree_1, 100, 1);\n",
    "trees_2 = simulatecoalescent(tree_2, 100, 1);\n",
    "trees_3 = simulatecoalescent(tree_3, 100, 1);\n",
    "writeMultiTopology(trees_1, \"./data/rawdata/5_taxa_1.trees\")\n",
    "writeMultiTopology(trees_2, \"./data/rawdata/5_taxa_2.trees\")\n",
    "writeMultiTopology(trees_3, \"./data/rawdata/5_taxa_3.trees\")"
   ]
  },
  {
   "cell_type": "code",
   "execution_count": 7,
   "id": "8e146128",
   "metadata": {},
   "outputs": [],
   "source": [
    "# simulate 4-taxa trees\n",
    "\n",
    "using CSV, DataFrames\n",
    "\n",
    "function num_bipartitions(n)\n",
    "    return 2^(n-1) - 1\n",
    "end;\n",
    "\n",
    "function get_nodes(idx)\n",
    "    nodes = []\n",
    "    for i in 1:length(idx)\n",
    "        if idx[i]\n",
    "            append!(nodes, i)\n",
    "        end\n",
    "    end\n",
    "    return nodes\n",
    "end\n",
    "\n",
    "\n",
    "function get_bipartition(tree, n)\n",
    "    taxa = sort(tipLabels(tree))\n",
    "    if length(taxa) != n\n",
    "        print(\"check the parameter n\")\n",
    "        return\n",
    "    end\n",
    "    node = Vector(1:n)\n",
    "    result = []\n",
    "    idx = 0\n",
    "    for i in tree.edge\n",
    "        node_idx = hardwiredCluster(i,taxa)\n",
    "        branch_node = get_nodes(node_idx)\n",
    "        \n",
    "        # if branch seperates more than half nodes, we use the small part to get bipartition idx\n",
    "        if (length(branch_node) > n ÷ 2)\n",
    "             branch_node = sort(collect(setdiff(node,branch_node)))\n",
    "        end\n",
    "        \n",
    "        # generate all possible combination with the same number of nodes\n",
    "        comb = collect(combinations(Vector(1:n), length(branch_node)))\n",
    "        for c in 1:length(comb)\n",
    "            if comb[c] == branch_node\n",
    "                # if the combination is the later, we need to find its first half\n",
    "                if length(branch_node) > 1 && c > length(comb) ÷ 2\n",
    "                    c = length(comb) - c + 1 \n",
    "                end\n",
    "                idx = c - 1\n",
    "                break\n",
    "            end\n",
    "        end\n",
    "        for j in 1:(length(branch_node) - 1)\n",
    "            idx = idx + binomial(n,j)\n",
    "        end\n",
    "        push!(result,Pair(idx, i.length))\n",
    "        idx = 0\n",
    "    end\n",
    "    return result\n",
    "end;\n",
    "\n",
    "function print_bipartition(trees, n)\n",
    "    \n",
    "    # build the table\n",
    "    N = num_bipartitions(n)\n",
    "    data = zeros(length(trees), N)\n",
    "    treeNum = 1;\n",
    "    # get existing index\n",
    "    \n",
    "    for i in trees\n",
    "        bipart = get_bipartition(i, n)\n",
    "        for j in 1:length(bipart)\n",
    "            data[treeNum,(bipart[j][1] + 1)] += bipart[j][2]\n",
    "        end\n",
    "        treeNum+=1\n",
    "    end\n",
    "    return data\n",
    "end;\n",
    "\n",
    "function print_csv(path, n, target)\n",
    "    tree = readMultiTopology(path)\n",
    "    result = print_bipartition(tree, n)\n",
    "    N = num_bipartitions(n)\n",
    "    header = Vector(0:N - 1)\n",
    "    header = string.(header)\n",
    "    CSV.write(target, DataFrame(result, :auto),header = header) \n",
    "end;"
   ]
  },
  {
   "cell_type": "code",
   "execution_count": 8,
   "id": "56a0bd71",
   "metadata": {},
   "outputs": [
    {
     "data": {
      "text/plain": [
       "\"((7:0,(4:0,((6:0,1:0):0,(((2:0,5:0):0,8:0):0,3:0):0):0):0):0);\""
      ]
     },
     "execution_count": 8,
     "metadata": {},
     "output_type": "execute_result"
    }
   ],
   "source": [
    "# 8-taxa trees\n",
    "tree1 = \"(((8:0,(3:0,4:0):0):0,(7:0,(5:0,(2:0,(1:0,6:0):0):0):0):0):0);\"\n",
    "tree2 = \"((((2:0,(1:0,8:0):0):0,((5:0,(6:0,4:0):0):0,7:0):0):0,3:0):0);\"\n",
    "tree3 = \"((((7:0,6:0):0,(2:0,(1:0,(3:0,8:0):0):0):0):0,(4:0,5:0):0):0);\"\n",
    "tree4 = \"((8:0,((1:0,4:0):0,(2:0,((6:0,(3:0,7:0):0):0,5:0):0):0):0):0);\"\n",
    "tree5 = \"((7:0,(4:0,((6:0,1:0):0,(((2:0,5:0):0,8:0):0,3:0):0):0):0):0);\""
   ]
  },
  {
   "cell_type": "code",
   "execution_count": 10,
   "id": "247bb25b",
   "metadata": {},
   "outputs": [],
   "source": [
    "trees_string = [tree1,tree2,tree3,tree4,tree5];"
   ]
  },
  {
   "cell_type": "code",
   "execution_count": 12,
   "id": "fa5b7a2a",
   "metadata": {},
   "outputs": [],
   "source": [
    "# different topologies with randomly chosen branch lengths Uniform (0.5, 2.0)\n",
    "using Distributions\n",
    "using Random\n",
    "\n",
    "d = Uniform(0.5, 2)\n",
    "for i in 1:100\n",
    "    for j in 1:length(trees_string)\n",
    "        tree = readTopology(trees_string[j])\n",
    "        Random.seed!((123+i)*j)\n",
    "        n = length(tree.edge)\n",
    "\n",
    "        x = rand(d, n)\n",
    "        idx = 1\n",
    "        for e in tree.edge\n",
    "            e.length += x[idx]\n",
    "            e.length = round(e.length, digits = 2)\n",
    "            idx += 1\n",
    "        end\n",
    "        \n",
    "        tree = simulatecoalescent(tree, 1000, 1);        \n",
    "        path = \"./data/rawdata/8_diff_topo_\" * string(j) *  \"_1000_\" * string(i) * \".trees\" \n",
    "        writeMultiTopology(tree, path)\n",
    "        target = \"data/8_diff_topo_\" * string(j) *  \"_1000_\" * string(i) * \".csv\"\n",
    "        print_csv(path, 8, target);\n",
    "    end\n",
    "end"
   ]
  }
 ],
 "metadata": {
  "kernelspec": {
   "display_name": "Julia 1.7.3",
   "language": "julia",
   "name": "julia-1.7"
  },
  "language_info": {
   "file_extension": ".jl",
   "mimetype": "application/julia",
   "name": "julia",
   "version": "1.7.3"
  }
 },
 "nbformat": 4,
 "nbformat_minor": 5
}
