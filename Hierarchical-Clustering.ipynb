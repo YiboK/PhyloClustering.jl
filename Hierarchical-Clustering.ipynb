{
 "cells": [
  {
   "cell_type": "code",
   "execution_count": 18,
   "id": "20d24fc9",
   "metadata": {},
   "outputs": [],
   "source": [
    "using CSV\n",
    "using MLBase\n",
    "using Distances\n",
    "using Clustering\n",
    "using DataFrames\n",
    "using StatsBase\n",
    "using Hungarian\n",
    "using LinearAlgebra\n",
    "using JLD\n",
    "using SparseArrays"
   ]
  },
  {
   "cell_type": "code",
   "execution_count": 2,
   "id": "d6f72da8",
   "metadata": {},
   "outputs": [
    {
     "data": {
      "text/plain": [
       "accuracy (generic function with 1 method)"
      ]
     },
     "execution_count": 2,
     "metadata": {},
     "output_type": "execute_result"
    }
   ],
   "source": [
    "function ground_true(df_1, df_2)\n",
    "    a = fill(1,size(df_1)[1])\n",
    "    b = fill(2,size(df_2)[1])\n",
    "    gt = cat(a,b, dims = 1)\n",
    "    return gt\n",
    "end\n",
    "\n",
    "# convert tree from dataframe to matrix. Each column is a tree\n",
    "function standardize_tree(tree)    \n",
    "    data = collect(Matrix(tree)');\n",
    "    \n",
    "    # standardize tree\n",
    "    dt = fit(ZScoreTransform, data, dims=2)\n",
    "    data = StatsBase.transform(dt, data)\n",
    "    \n",
    "    # replace NaN value with 0\n",
    "    replace!(data, NaN=>0)\n",
    "    return data\n",
    "end\n",
    "\n",
    "function accuracy(n, gt, pred)\n",
    "    matrix = confusmat(n, gt, pred)\n",
    "    # Hungarian algorithm minimizes the cost, so we need to transform the matrix\n",
    "    A = -matrix .+ maximum(matrix)    \n",
    "    matrix = matrix[:,hungarian(A)[1]]\n",
    "    x = tr(matrix)/sum(matrix)\n",
    "    return matrix, x\n",
    "end"
   ]
  },
  {
   "cell_type": "code",
   "execution_count": 15,
   "id": "807326c1",
   "metadata": {},
   "outputs": [],
   "source": [
    "tree1 = CSV.read(\"data/4_diff_topo_1_100_1.csv\", DataFrame);\n",
    "tree2 = CSV.read(\"data/4_diff_topo_2_100_1.csv\", DataFrame);\n",
    "tree1 = Matrix(tree1);\n",
    "tree2 = Matrix(tree2);"
   ]
  },
  {
   "cell_type": "code",
   "execution_count": 4,
   "id": "26bd6761",
   "metadata": {},
   "outputs": [
    {
     "data": {
      "text/plain": [
       "7×200 Matrix{Float64}:\n",
       " -0.412284   2.23811    0.152577  …  -0.291972  -0.838893   1.12883\n",
       "  0.436509  -1.00641    0.225555     -0.17223   -0.435042  -0.412536\n",
       "  0.793536   1.29313   -0.145328     -0.427791  -0.317066  -0.927798\n",
       "  0.722671   0.725172  -0.485246     -0.36146   -0.598092  -0.577828\n",
       "  0.361361  -0.623037   1.13121      -0.623037  -0.623037  -0.623037\n",
       " -0.598079  -0.196737  -0.598079  …   0.538041   0.848036   0.270425\n",
       " -0.201355  -0.201355  -0.201355     -0.201355  -0.201355  -0.201355"
      ]
     },
     "execution_count": 4,
     "metadata": {},
     "output_type": "execute_result"
    }
   ],
   "source": [
    "gt = ground_true(tree1, tree2);\n",
    "tree = vcat(tree1,tree2)\n",
    "tree = standardize_tree(tree)"
   ]
  },
  {
   "cell_type": "code",
   "execution_count": 5,
   "id": "433c6305",
   "metadata": {},
   "outputs": [
    {
     "data": {
      "text/plain": [
       "200×200 Matrix{Float64}:\n",
       " 0.0      3.23826  1.8157    2.57955   …  2.30474   2.64192   3.07791\n",
       " 3.23826  0.0      3.55527   5.10812      3.43211   3.90253   2.90375\n",
       " 1.8157   3.55527  0.0       1.77073      2.19525   2.57493   2.41096\n",
       " 2.57955  5.10812  1.77073   0.0          3.16256   3.38353   3.735\n",
       " 2.32548  1.30908  2.45542   4.08519      2.47856   2.99054   2.07981\n",
       " 4.19538  1.33259  4.2447    5.76542   …  4.3535    4.916     3.42143\n",
       " 2.98824  5.52398  2.35226   0.672688     3.58117   3.81592   4.13926\n",
       " 1.89659  3.42187  0.714748  1.84142      2.57545   3.0441    2.58731\n",
       " 1.41331  2.55693  1.70892   2.78886      2.68344   3.23002   2.72735\n",
       " 2.2727   4.87136  1.51609   0.464822     2.80543   3.00091   3.47937\n",
       " 1.72904  2.76678  1.99719   3.42776   …  1.73851   1.9914    2.2832\n",
       " 1.23885  4.12904  1.7001    1.73411      2.96424   3.23254   3.68644\n",
       " 2.32074  3.52365  1.101     2.5933       1.93061   2.18417   2.08522\n",
       " ⋮                                     ⋱                      \n",
       " 2.24385  3.47178  2.75265   3.57354      1.60052   1.4005    2.81259\n",
       " 1.95006  3.65175  2.42352   3.16537      1.12373   0.989595  2.55439\n",
       " 3.20855  2.35775  2.73606   4.0537    …  2.23073   2.85636   1.03915\n",
       " 2.92451  4.07449  2.47956   3.37218      0.985134  0.982919  1.827\n",
       " 2.1918   4.57906  2.69442   2.64675      2.46292   2.86515   3.22036\n",
       " 3.15608  2.84749  2.6504    3.95738      1.4546    1.78086   1.03419\n",
       " 2.49848  2.86602  2.17968   3.32835      1.52048   2.24311   0.969423\n",
       " 2.42452  3.28194  2.05992   3.1369    …  0.981031  1.6611    1.05565\n",
       " 2.95093  3.7049   2.49369   3.54738      0.824285  0.812381  1.55427\n",
       " 2.30474  3.43211  2.19525   3.16256      0.0       0.729756  1.5636\n",
       " 2.64192  3.90253  2.57493   3.38353      0.729756  0.0       2.13997\n",
       " 3.07791  2.90375  2.41096   3.735        1.5636    2.13997   0.0"
      ]
     },
     "execution_count": 5,
     "metadata": {},
     "output_type": "execute_result"
    }
   ],
   "source": [
    "matrix = pairwise(Euclidean(), tree, dims=2)"
   ]
  },
  {
   "cell_type": "code",
   "execution_count": 6,
   "id": "084f30d9",
   "metadata": {},
   "outputs": [
    {
     "data": {
      "text/plain": [
       "hc_label (generic function with 1 method)"
      ]
     },
     "execution_count": 6,
     "metadata": {},
     "output_type": "execute_result"
    }
   ],
   "source": [
    "function hc_label(matrix; linkage=:single)\n",
    "    H = hclust(matrix,linkage = linkage)\n",
    "    return pred = cutree(H, k=2)\n",
    "end"
   ]
  },
  {
   "cell_type": "code",
   "execution_count": 7,
   "id": "598282eb",
   "metadata": {},
   "outputs": [
    {
     "data": {
      "text/plain": [
       "([1 99; 0 100], 0.505)"
      ]
     },
     "execution_count": 7,
     "metadata": {},
     "output_type": "execute_result"
    }
   ],
   "source": [
    "pred = hc_label(matrix)\n",
    "accuracy(2, gt, pred)"
   ]
  },
  {
   "cell_type": "code",
   "execution_count": 8,
   "id": "61c7fbc0",
   "metadata": {},
   "outputs": [
    {
     "data": {
      "text/plain": [
       "hc_matrix (generic function with 1 method)"
      ]
     },
     "execution_count": 8,
     "metadata": {},
     "output_type": "execute_result"
    }
   ],
   "source": [
    "function hc_matrix(trees, path)\n",
    "    n = length(trees)\n",
    "    result = zeros(n, n)\n",
    "    for i in 2:n\n",
    "        for j in  1:(i - 1)\n",
    "            gt = ground_true(trees[i],trees[j])\n",
    "            tree = vcat(trees[i],trees[j])\n",
    "            tree = standardize_tree(tree)\n",
    "            matrix = pairwise(Euclidean(), tree, dims=2)\n",
    "            pred = hc_label(matrix)\n",
    "            m,x = accuracy(2, gt, pred)\n",
    "            result[i,j] = x\n",
    "            result[j,i] = x\n",
    "        end\n",
    "    end      \n",
    "    header = Vector(1:n)\n",
    "    header = string.(header)\n",
    "    CSV.write(path, DataFrame(result, :auto),header = header);\n",
    "end"
   ]
  },
  {
   "cell_type": "code",
   "execution_count": 9,
   "id": "c100ee67",
   "metadata": {},
   "outputs": [],
   "source": [
    "for i in 1:100\n",
    "    trees = []\n",
    "    for j in 1:15\n",
    "        path = \"data/4_diff_topo_\" * string(j) *  \"_50_\" * string(i) * \".csv\"\n",
    "        tree = CSV.read(path, DataFrame);\n",
    "        push!(trees, tree)\n",
    "    end\n",
    "\n",
    "    hc_matrix(trees, \"data/hc/hc_4_diff_topo_50_\" * string(i) * \".csv\");\n",
    "end\n"
   ]
  },
  {
   "cell_type": "code",
   "execution_count": 31,
   "id": "3c869234",
   "metadata": {},
   "outputs": [],
   "source": [
    "for i in 1:100\n",
    "    trees = []\n",
    "    for j in 1:15\n",
    "        path = \"data/4_diff_topo_\" * string(j) *  \"_100_\" * string(i) * \".csv\"\n",
    "        tree = CSV.read(path, DataFrame);\n",
    "        push!(trees, tree)\n",
    "    end\n",
    "\n",
    "    hc_matrix(trees, \"data/hc/hc_4_diff_topo_100_\" * string(i) * \".csv\");\n",
    "end\n"
   ]
  },
  {
   "cell_type": "code",
   "execution_count": null,
   "id": "df89f01c",
   "metadata": {},
   "outputs": [],
   "source": [
    "for i in 1:100\n",
    "    trees = []\n",
    "    for j in 1:15\n",
    "        path = \"data/4_diff_topo_\" * string(j) *  \"_500_\" * string(i) * \".csv\"\n",
    "        tree = CSV.read(path, DataFrame);\n",
    "        push!(trees, tree)\n",
    "    end\n",
    "\n",
    "    hc_matrix(trees, \"data/hc/hc_4_diff_topo_500_\" * string(i) * \".csv\");\n",
    "end"
   ]
  },
  {
   "cell_type": "code",
   "execution_count": 10,
   "id": "8dc7ce15",
   "metadata": {},
   "outputs": [],
   "source": [
    "for i in 1:100\n",
    "    trees = []\n",
    "    for j in 1:15\n",
    "        path = \"data/4_diff_topo_\" * string(j) *  \"_1000_\" * string(i) * \".csv\"\n",
    "        tree = CSV.read(path, DataFrame);\n",
    "        push!(trees, tree)\n",
    "    end\n",
    "\n",
    "    hc_matrix(trees, \"data/hc/hc_4_diff_topo_1000_\" * string(i) * \".csv\");\n",
    "end"
   ]
  },
  {
   "cell_type": "code",
   "execution_count": 19,
   "id": "4ab0dadd",
   "metadata": {},
   "outputs": [],
   "source": [
    "for i in 1:100\n",
    "    trees = []\n",
    "    for j in 1:15\n",
    "        path = \"data/8_diff_topo_\" * string(j) *  \"_50_\" * string(i) * \".jld\"\n",
    "        tree = jldopen(path, \"r\") do file\n",
    "            read(file, \"tree\")\n",
    "        end\n",
    "        push!(trees, tree)\n",
    "    end\n",
    "\n",
    "    hc_matrix(trees, \"data/hc/hc_8_diff_topo_50_\" * string(i) * \".csv\");\n",
    "end\n"
   ]
  },
  {
   "cell_type": "code",
   "execution_count": null,
   "id": "38969775",
   "metadata": {},
   "outputs": [],
   "source": []
  }
 ],
 "metadata": {
  "kernelspec": {
   "display_name": "Julia 1.7.3",
   "language": "julia",
   "name": "julia-1.7"
  },
  "language_info": {
   "file_extension": ".jl",
   "mimetype": "application/julia",
   "name": "julia",
   "version": "1.7.3"
  }
 },
 "nbformat": 4,
 "nbformat_minor": 5
}
