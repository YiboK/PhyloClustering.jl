{
 "cells": [
  {
   "cell_type": "code",
   "execution_count": null,
   "id": "e10b326b",
   "metadata": {},
   "outputs": [],
   "source": [
    "# (((1:1,2:1):1,3:2):2,4:4)\n",
    "ms 4 100 -T -I 4 1 1 1 1 -ej 1 2 1 -ej 2 1 3 -ej 4 3 4 | tail -n +4 | grep -v // > one.trees\n",
    "\n",
    "# ((1:0.5,2:0.5):3.5,(3:3.2,4:3.2):0.8)\n",
    "ms 4 100 -T -I 4 1 1 1 1 -ej 0.5 1 2 -ej 3.2 3 4 -ej 4 2 4 | tail -n +4 | grep -v //  >> two.trees\n",
    "\n",
    "# ((1:2,2:2):2,(3:1.5,4:1.5):2.5)\n",
    "ms 4 100 -T -I 4 1 1 1 1 -ej 2 1 2 -ej 1.5 3 4 -ej 4 2 4 | tail -n +4 | grep -v // >> three.trees\n",
    "\n",
    "# (((1:0.75,2:0.75):0.75,3:1.5):2.5,4:4)\n",
    "ms 4 100 -T -I 4 1 1 1 1 -ej 0.75 2 1 -ej 1.5 1 3 -ej 4 3 4 | tail -n +4 | grep -v // > four.trees"
   ]
  }
 ],
 "metadata": {
  "kernelspec": {
   "display_name": "Python 3 (ipykernel)",
   "language": "python",
   "name": "python3"
  },
  "language_info": {
   "codemirror_mode": {
    "name": "ipython",
    "version": 3
   },
   "file_extension": ".py",
   "mimetype": "text/x-python",
   "name": "python",
   "nbconvert_exporter": "python",
   "pygments_lexer": "ipython3",
   "version": "3.9.12"
  }
 },
 "nbformat": 4,
 "nbformat_minor": 5
}
