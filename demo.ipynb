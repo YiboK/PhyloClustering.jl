{
 "cells": [
  {
   "cell_type": "code",
   "execution_count": 21,
   "id": "c5f28c32",
   "metadata": {},
   "outputs": [],
   "source": [
    "using PhyloNetworks;\n",
    "trees = readInputTrees(\"data/4taxa_trees.tre\");"
   ]
  },
  {
   "cell_type": "code",
   "execution_count": 24,
   "id": "0487e7bf",
   "metadata": {},
   "outputs": [
    {
     "ename": "LoadError",
     "evalue": "UndefVarError: FiloComp not defined",
     "output_type": "error",
     "traceback": [
      "UndefVarError: FiloComp not defined",
      "",
      "Stacktrace:",
      " [1] top-level scope",
      "   @ In[24]:1",
      " [2] eval",
      "   @ .\\boot.jl:373 [inlined]",
      " [3] include_string(mapexpr::typeof(REPL.softscope), mod::Module, code::String, filename::String)",
      "   @ Base .\\loading.jl:1196"
     ]
    }
   ],
   "source": [
    "FiloComp.readtree()"
   ]
  },
  {
   "cell_type": "code",
   "execution_count": null,
   "id": "5cae4211",
   "metadata": {},
   "outputs": [],
   "source": []
  }
 ],
 "metadata": {
  "kernelspec": {
   "display_name": "Julia 1.7.3",
   "language": "julia",
   "name": "julia-1.7"
  },
  "language_info": {
   "file_extension": ".jl",
   "mimetype": "application/julia",
   "name": "julia",
   "version": "1.7.3"
  }
 },
 "nbformat": 4,
 "nbformat_minor": 5
}
