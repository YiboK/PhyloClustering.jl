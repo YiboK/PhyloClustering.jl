{
 "cells": [
  {
   "cell_type": "code",
   "execution_count": 1,
   "id": "c5f28c32",
   "metadata": {},
   "outputs": [],
   "source": [
    "using PhyloNetworks;\n",
    "trees = readMultiTopology(\"data/4taxa_trees.tre\");"
   ]
  },
  {
   "cell_type": "code",
   "execution_count": 2,
   "id": "0487e7bf",
   "metadata": {},
   "outputs": [
    {
     "data": {
      "text/plain": [
       "HybridNetwork, Rooted Network\n",
       "6 edges\n",
       "7 nodes: 4 tips, 0 hybrid nodes, 3 internal tree nodes.\n",
       "tip labels: 4, 3, 1, 2\n",
       "(4:3.866,(3:1.593,(1:1.208,2:1.208):0.386):2.273);\n"
      ]
     },
     "execution_count": 2,
     "metadata": {},
     "output_type": "execute_result"
    }
   ],
   "source": [
    "trees[1]"
   ]
  },
  {
   "cell_type": "code",
   "execution_count": 8,
   "id": "5cae4211",
   "metadata": {},
   "outputs": [
    {
     "data": {
      "image/png": "[encoded data removed]"
     },
     "metadata": {},
     "output_type": "display_data"
    }
   ],
   "source": [
    "using PhyloPlots\n",
    "plot(trees[1], :R, showEdgeLength=true);"
   ]
  },
  {
   "cell_type": "code",
   "execution_count": null,
   "id": "8ee3e0e3",
   "metadata": {},
   "outputs": [],
   "source": []
  }
 ],
 "metadata": {
  "kernelspec": {
   "display_name": "Julia 1.7.3",
   "language": "julia",
   "name": "julia-1.7"
  },
  "language_info": {
   "file_extension": ".jl",
   "mimetype": "application/julia",
   "name": "julia",
   "version": "1.7.3"
  }
 },
 "nbformat": 4,
 "nbformat_minor": 5
}
