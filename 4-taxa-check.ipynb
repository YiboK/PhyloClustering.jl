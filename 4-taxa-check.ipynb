{
 "cells": [
  {
   "cell_type": "code",
   "execution_count": 2,
   "id": "1397fad2",
   "metadata": {},
   "outputs": [],
   "source": [
    "# This file prints the results of algorithms into csv files.\n",
    "\n",
    "# Stop showing warnings\n",
    "using Suppressor: @suppress_err"
   ]
  },
  {
   "cell_type": "code",
   "execution_count": 3,
   "id": "eca32ff0",
   "metadata": {},
   "outputs": [],
   "source": [
    "using Clustering\n",
    "using MultivariateStats\n",
    "using StatsBase\n",
    "using CSV\n",
    "using DataFrames\n",
    "using CairoMakie\n",
    "using GaussianMixtures"
   ]
  },
  {
   "cell_type": "code",
   "execution_count": 4,
   "id": "f6879fe2",
   "metadata": {},
   "outputs": [
    {
     "data": {
      "text/plain": [
       "plot_clusters (generic function with 1 method)"
      ]
     },
     "execution_count": 4,
     "metadata": {},
     "output_type": "execute_result"
    }
   ],
   "source": [
    "function ground_true(df_1, df_2)\n",
    "    a = fill(1,nrow(df_1))\n",
    "    b = fill(2,nrow(df_2))\n",
    "    gt = cat(a,b, dims = 1)\n",
    "    return gt\n",
    "end\n",
    "\n",
    "# convert tree from dataframe to matrix. Each column is a tree\n",
    "function standardize_tree(tree)    \n",
    "    data = collect(Matrix(tree)');\n",
    "    \n",
    "    # standardize tree\n",
    "    dt = fit(ZScoreTransform, data, dims=2)\n",
    "    data = StatsBase.transform(dt, data)\n",
    "    \n",
    "    # replace NaN value with 0\n",
    "    replace!(data, NaN=>0)\n",
    "    return data\n",
    "end\n",
    "\n",
    "function plot_clusters(tree, label)\n",
    "    PCA_model = fit(PCA, tree, maxoutdim = 2);\n",
    "    PCA_data = predict(PCA_model,tree)\n",
    "    scatter(PCA_data[1,:], PCA_data[2,:], markersize = 5, color = label)\n",
    "end"
   ]
  },
  {
   "cell_type": "code",
   "execution_count": 5,
   "id": "aec80fe0",
   "metadata": {},
   "outputs": [],
   "source": [
    "using MLBase\n",
    "using Hungarian\n",
    "using LinearAlgebra"
   ]
  },
  {
   "cell_type": "code",
   "execution_count": 6,
   "id": "24ffcc23",
   "metadata": {},
   "outputs": [
    {
     "data": {
      "text/plain": [
       "accuracy (generic function with 1 method)"
      ]
     },
     "execution_count": 6,
     "metadata": {},
     "output_type": "execute_result"
    }
   ],
   "source": [
    "# n is the number of cluters\n",
    "# remember standardize trees for better performance\n",
    "function kmeans_label(tree, n; seed =:kmpp)  \n",
    "    # apply kmeans clustering\n",
    "    # init works like seed of random, Its length should be the same as the number of clusters    \n",
    "    result = kmeans(tree, n, init = seed);\n",
    "    return result.assignments\n",
    "end;\n",
    "\n",
    "\n",
    "function GMM_label(tree, n; method=:kmeans, kind=:diag)    \n",
    "    data= tree';\n",
    "    gmm=GMM(n,Array(data),method=method, kind=kind);\n",
    "    prob_pos=gmmposterior(gmm,Array(data))[1]\n",
    "    llpg = gmmposterior(gmm,Array(data))[2]\n",
    "    llpg_result = map(argmax, eachrow(llpg))\n",
    "    prob_result = map(argmax, eachrow(prob_pos))\n",
    "    return Pair(llpg_result, prob_result)\n",
    "end;\n",
    "\n",
    "function dbscan_label(tree, radius; min_neighbors = 1, min_cluster_size = 1)   \n",
    "    result = dbscan(tree, radius,min_neighbors = min_neighbors, min_cluster_size = min_cluster_size)   \n",
    "    # get only points in clusters\n",
    "    result = getproperty.(result, :core_indices)\n",
    "    idx = fill(0,length(tree[1,:]))\n",
    "    for i in range(1, length(idx))\n",
    "        if i in result[1]\n",
    "            idx[i] = 1\n",
    "        elseif i in result[2]\n",
    "            idx[i] = 2\n",
    "        end\n",
    "    end\n",
    "    return idx\n",
    "end;\n",
    "# Performance Check\n",
    "\n",
    "function accuracy(n, gt, pred)\n",
    "    matrix = confusmat(n, gt, pred)\n",
    "    # Hungarian algorithm minimizes the cost, so we need to transform the matrix\n",
    "    A = -matrix .+ maximum(matrix)    \n",
    "    matrix = matrix[:,hungarian(A)[1]]\n",
    "    x = tr(matrix)/sum(matrix)\n",
    "    return matrix, x\n",
    "end"
   ]
  },
  {
   "cell_type": "code",
   "execution_count": 7,
   "id": "201fa059",
   "metadata": {},
   "outputs": [
    {
     "data": {
      "text/plain": [
       "kmeans_matrix (generic function with 1 method)"
      ]
     },
     "execution_count": 7,
     "metadata": {},
     "output_type": "execute_result"
    }
   ],
   "source": [
    "# Kmeans\n",
    "function kmeans_matrix(trees, path)\n",
    "    n = length(trees)\n",
    "    result = zeros(n, n)\n",
    "    for i in 1:n\n",
    "        if i == 1\n",
    "            continue\n",
    "        end\n",
    "        for j in  1:(i - 1)\n",
    "            gt = ground_true(trees[i],trees[j])\n",
    "            tree = vcat(trees[i],trees[j])\n",
    "            tree = standardize_tree(tree)\n",
    "            pred_kmeans = kmeans_label(tree, 2)\n",
    "            m,x = accuracy(2, gt, pred_kmeans)\n",
    "            result[i,j] = x\n",
    "            result[j,i] = x\n",
    "        end\n",
    "    end      \n",
    "    header = Vector(1:n)\n",
    "    header = string.(header)\n",
    "    CSV.write(path, DataFrame(result, :auto),header = header);\n",
    "end"
   ]
  },
  {
   "cell_type": "code",
   "execution_count": 8,
   "id": "530ceaa8",
   "metadata": {},
   "outputs": [
    {
     "data": {
      "text/plain": [
       "gmm_matrix (generic function with 1 method)"
      ]
     },
     "execution_count": 8,
     "metadata": {},
     "output_type": "execute_result"
    }
   ],
   "source": [
    "# GMM\n",
    "function gmm_matrix(trees, path_prob, path_llpg)\n",
    "    @suppress_err begin\n",
    "        n = length(trees)\n",
    "        result_prob = zeros(n, n)\n",
    "        result_llpg = zeros(n, n)\n",
    "        for i in 1:n\n",
    "            if i == 1\n",
    "                continue\n",
    "            end\n",
    "            for j in  1:(i - 1)\n",
    "                gt = ground_true(trees[i],trees[j])\n",
    "                tree = vcat(trees[i],trees[j])\n",
    "                tree = standardize_tree(tree)\n",
    "                pred_prob, pred_llpg = GMM_label(tree, 2, method = :split)\n",
    "                m,x = accuracy(2, gt, pred_prob)\n",
    "                result_prob[i,j] = x\n",
    "                result_prob[j,i] = x\n",
    "\n",
    "                m,x = accuracy(2, gt, pred_llpg)\n",
    "                result_llpg[i,j] = x\n",
    "                result_llpg[j,i] = x        \n",
    "            end\n",
    "        end \n",
    "    \n",
    "        header = Vector(1:n)\n",
    "        header = string.(header)\n",
    "        CSV.write(path_prob, DataFrame(result_prob, :auto),header = header);\n",
    "        CSV.write(path_llpg, DataFrame(result_llpg, :auto),header = header);\n",
    "    end\n",
    "end"
   ]
  },
  {
   "cell_type": "code",
   "execution_count": 8,
   "id": "0e679e8a",
   "metadata": {},
   "outputs": [],
   "source": [
    "# Check begin"
   ]
  },
  {
   "cell_type": "code",
   "execution_count": 9,
   "id": "119de3c0",
   "metadata": {},
   "outputs": [],
   "source": [
    "trees = []\n",
    "for i in 1:15\n",
    "    path = \"data/4_taxa_\" * string(i) *\"_1_100.csv\"\n",
    "    tree = CSV.read(path, DataFrame);\n",
    "    push!(trees, tree)\n",
    "end\n",
    "\n",
    "kmeans_matrix(trees, \"data/kmeans_4taxa_100.csv\");\n",
    "gmm_matrix(trees, \"data/GMM_prob_4taxa_100.csv\", \"data/GMM_llpg_4taxa_100.csv\");"
   ]
  },
  {
   "cell_type": "code",
   "execution_count": 8,
   "id": "e872caa8",
   "metadata": {},
   "outputs": [],
   "source": [
    "for j in 1:100\n",
    "    trees = []\n",
    "    for i in 1:15\n",
    "        path = \"data/4_taxa_\" * string(i) *\"_1_1000_\" * string(j) * \".csv\"\n",
    "        tree = CSV.read(path, DataFrame);\n",
    "        push!(trees, tree)\n",
    "    end\n",
    "    kmeans_matrix(trees, \"data/kmeans_4taxa_1000_\" * string(j) * \".csv\");\n",
    "    gmm_matrix(trees, \"data/GMM_prob_4taxa_1000_\" * string(j) * \".csv\", \"data/GMM_llpg_4taxa_1000_\" * string(j) * \".csv\");\n",
    "end"
   ]
  },
  {
   "cell_type": "code",
   "execution_count": 12,
   "id": "b1b8f3b8",
   "metadata": {},
   "outputs": [],
   "source": [
    "for j in 1:20\n",
    "    trees = []\n",
    "    for i in 1:15\n",
    "        path = \"data/4_taxa_\" * string(i) *\"_1_5000_\" * string(j) * \".csv\"\n",
    "        tree = CSV.read(path, DataFrame);\n",
    "        push!(trees, tree)\n",
    "    end\n",
    "\n",
    "    kmeans_matrix(trees, \"data/kmeans_4taxa_5000_\" * string(j) * \".csv\");\n",
    "    gmm_matrix(trees, \"data/GMM_prob_4taxa_5000_\" * string(j) * \".csv\", \"data/GMM_llpg_4taxa_5000_\" * string(j) * \".csv\");\n",
    "end"
   ]
  },
  {
   "cell_type": "code",
   "execution_count": 11,
   "id": "d9ef7962",
   "metadata": {},
   "outputs": [],
   "source": [
    "for i in 1:15\n",
    "    trees = []\n",
    "    for j in 1:6\n",
    "        path = \"data/4_taxa_\" *string(i)* \"_\" * string(j) *\"_100.csv\"\n",
    "        tree = CSV.read(path, DataFrame);\n",
    "        push!(trees, tree)\n",
    "    end\n",
    "    \n",
    "    kmeans_matrix(trees, \"data/kmeans_4_tree_\" *string(i)* \"_100.csv\");\n",
    "    gmm_matrix(trees, \"data/GMM_prob_4_tree_\" *string(i)* \"_100.csv\", \"data/GMM_llpg_4_tree_\" *string(i)* \"_100.csv\");\n",
    "end"
   ]
  },
  {
   "cell_type": "code",
   "execution_count": 13,
   "id": "ab1a00bc",
   "metadata": {},
   "outputs": [],
   "source": [
    "for k in 1:100\n",
    "    for i in 1:15\n",
    "        trees = []\n",
    "        for j in 1:6\n",
    "            path = \"data/4_taxa_\" *string(i)* \"_\" * string(j) *\"_1000_\" * string(k) * \".csv\"\n",
    "            tree = CSV.read(path, DataFrame);\n",
    "            push!(trees, tree)\n",
    "        end\n",
    "\n",
    "        kmeans_matrix(trees, \"data/kmeans_4_tree_\" *string(i)* \"_1000_\" * string(k) * \".csv\");\n",
    "        gmm_matrix(trees, \"data/GMM_prob_4_tree_\" *string(i)* \"_1000_\" * string(k) * \".csv\", \n",
    "            \"data/GMM_llpg_4_tree_\" *string(i)* \"_1000_\" * string(k) * \".csv\");\n",
    "    end\n",
    "end"
   ]
  },
  {
   "cell_type": "code",
   "execution_count": 13,
   "id": "2685af21",
   "metadata": {},
   "outputs": [],
   "source": [
    "for k in 1:20\n",
    "    for i in 1:15\n",
    "        trees = []\n",
    "        for j in 1:6\n",
    "            path = \"data/4_taxa_\" *string(i)* \"_\" * string(j) *\"_5000_\" * string(k) * \".csv\"\n",
    "            tree = CSV.read(path, DataFrame);\n",
    "            push!(trees, tree)\n",
    "        end\n",
    "\n",
    "        kmeans_matrix(trees, \"data/kmeans_4_tree_\" *string(i)* \"_5000_\" * string(k) * \".csv\");\n",
    "        gmm_matrix(trees, \"data/GMM_prob_4_tree_\" *string(i)* \"_5000_\" * string(k) * \".csv\", \n",
    "            \"data/GMM_llpg_4_tree_\" *string(i)* \"_5000_\" * string(k) * \".csv\");\n",
    "    end\n",
    "end"
   ]
  },
  {
   "cell_type": "code",
   "execution_count": 251,
   "id": "1af46aa0",
   "metadata": {},
   "outputs": [],
   "source": [
    "trees = []\n",
    "for i in 1:15\n",
    "    path = \"data/4_taxa_\" * string(i) *\"_1_100.csv\"\n",
    "    tree = CSV.read(path, DataFrame);\n",
    "    push!(trees, tree)\n",
    "end"
   ]
  },
  {
   "cell_type": "code",
   "execution_count": 10,
   "id": "356873fc",
   "metadata": {},
   "outputs": [],
   "source": [
    "# Different topologies and different branch lengths\n",
    "\n",
    "for i in 1:100\n",
    "    trees = []\n",
    "    for j in 1:15      \n",
    "        path = \"data/4_diff_topo_\" * string(j) *  \"_100_\" * string(i) * \".csv\"\n",
    "        tree = CSV.read(path, DataFrame);\n",
    "        push!(trees, tree)\n",
    "    end\n",
    "    kmeans_matrix(trees, \"data/kmeans_4_diff_topo_100_\" *string(i)* \".csv\");\n",
    "    gmm_matrix(trees, \"data/GMM_prob_4_topo_100_\" *string(i)* \".csv\", \"data/GMM_llpg_4_topo_100_\" *string(i)* \".csv\");\n",
    "end"
   ]
  },
  {
   "cell_type": "code",
   "execution_count": 11,
   "id": "2ba9a219",
   "metadata": {},
   "outputs": [],
   "source": [
    "\n",
    "for i in 1:100\n",
    "    trees = []\n",
    "    for j in 1:15      \n",
    "        path = \"data/4_diff_topo_\" * string(j) *  \"_1000_\" * string(i) * \".csv\"\n",
    "        tree = CSV.read(path, DataFrame);\n",
    "        push!(trees, tree)\n",
    "    end\n",
    "    kmeans_matrix(trees, \"data/kmeans_4_diff_topo_1000_\" *string(i)* \".csv\");\n",
    "    gmm_matrix(trees, \"data/GMM_prob_4_topo_1000_\" *string(i)* \".csv\", \"data/GMM_llpg_4_topo_1000_\" *string(i)* \".csv\");\n",
    "end"
   ]
  },
  {
   "cell_type": "code",
   "execution_count": 9,
   "id": "63ae4227",
   "metadata": {},
   "outputs": [],
   "source": [
    "for i in 1:100\n",
    "    trees = []\n",
    "    for j in 1:15      \n",
    "        path = \"data/4_diff_topo_\" * string(j) *  \"_5000_\" * string(i) * \".csv\"\n",
    "        tree = CSV.read(path, DataFrame);\n",
    "        push!(trees, tree)\n",
    "    end\n",
    "    kmeans_matrix(trees, \"data/kmeans_4_diff_topo_5000_\" *string(i)* \".csv\");\n",
    "    gmm_matrix(trees, \"data/GMM_prob_4_topo_5000_\" *string(i)* \".csv\", \"data/GMM_llpg_4_topo_5000_\" *string(i)* \".csv\");\n",
    "end"
   ]
  },
  {
   "cell_type": "code",
   "execution_count": 12,
   "id": "1bd043b3",
   "metadata": {},
   "outputs": [],
   "source": [
    "# Different topologies and different branch lengths with 8-taxa\n",
    "\n",
    "for i in 1:100\n",
    "    trees = []\n",
    "    for j in 1:5      \n",
    "        path = \"data/8_diff_topo_\" * string(j) *  \"_1000_\" * string(i) * \".csv\"\n",
    "        tree = CSV.read(path, DataFrame);\n",
    "        push!(trees, tree)\n",
    "    end\n",
    "    kmeans_matrix(trees, \"data/kmeans_8_diff_topo_1000_\" *string(i)* \".csv\");\n",
    "    gmm_matrix(trees, \"data/GMM_prob_8_topo_1000_\" *string(i)* \".csv\", \"data/GMM_llpg_8_topo_1000_\" *string(i)* \".csv\");\n",
    "end"
   ]
  },
  {
   "cell_type": "code",
   "execution_count": null,
   "id": "87af8611",
   "metadata": {},
   "outputs": [],
   "source": []
  }
 ],
 "metadata": {
  "kernelspec": {
   "display_name": "Julia 1.7.3",
   "language": "julia",
   "name": "julia-1.7"
  },
  "language_info": {
   "file_extension": ".jl",
   "mimetype": "application/julia",
   "name": "julia",
   "version": "1.7.3"
  }
 },
 "nbformat": 4,
 "nbformat_minor": 5
}
