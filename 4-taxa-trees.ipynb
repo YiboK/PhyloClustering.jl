{
 "cells": [
  {
   "cell_type": "code",
   "execution_count": 1,
   "id": "43c00ba6",
   "metadata": {},
   "outputs": [
    {
     "name": "stderr",
     "output_type": "stream",
     "text": [
      "┌ Info: Precompiling PhyloNetworks [33ad39ac-ed31-50eb-9b15-43d0656eaa72]\n",
      "└ @ Base loading.jl:1423\n",
      "┌ Info: Precompiling PhyloPlots [c0d5b6db-e3fc-52bc-a87d-1d050989ed3b]\n",
      "└ @ Base loading.jl:1423\n",
      "┌ Info: Precompiling PhyloCoalSimulations [53f7b83a-06b5-4910-9a21-1896bf762ade]\n",
      "└ @ Base loading.jl:1423\n"
     ]
    }
   ],
   "source": [
    "using PhyloNetworks\n",
    "using PhyloPlots\n",
    "using PhyloCoalSimulations\n",
    "using Combinatorics\n",
    "using Formatting"
   ]
  },
  {
   "cell_type": "code",
   "execution_count": 2,
   "id": "0a18da33",
   "metadata": {},
   "outputs": [],
   "source": [
    "using CSV, DataFrames\n",
    "\n",
    "function num_bipartitions(n)\n",
    "    return 2^(n-1) - 1\n",
    "end;\n",
    "\n",
    "function get_nodes(idx)\n",
    "    nodes = []\n",
    "    for i in 1:length(idx)\n",
    "        if idx[i]\n",
    "            append!(nodes, i)\n",
    "        end\n",
    "    end\n",
    "    return nodes\n",
    "end\n",
    "\n",
    "\n",
    "function get_bipartition(tree, n)\n",
    "    taxa = sort(tipLabels(tree))\n",
    "    if length(taxa) != n\n",
    "        print(\"check the parameter n\")\n",
    "        return\n",
    "    end\n",
    "    node = Vector(1:n)\n",
    "    result = []\n",
    "    idx = 0\n",
    "    for i in tree.edge\n",
    "        node_idx = hardwiredCluster(i,taxa)\n",
    "        branch_node = get_nodes(node_idx)\n",
    "        \n",
    "        # if branch seperates more than half nodes, we use the small part to get bipartition idx\n",
    "        if (length(branch_node) > n ÷ 2)\n",
    "             branch_node = sort(collect(setdiff(node,branch_node)))\n",
    "        end\n",
    "        \n",
    "        # generate all possible combination with the same number of nodes\n",
    "        comb = collect(combinations(Vector(1:n), length(branch_node)))\n",
    "        for c in 1:length(comb)\n",
    "            if comb[c] == branch_node\n",
    "                # if the combination is the later, we need to find its first half\n",
    "                if length(branch_node) > 1 && c > length(comb) ÷ 2\n",
    "                    c = length(comb) - c + 1 \n",
    "                end\n",
    "                idx = c - 1\n",
    "                break\n",
    "            end\n",
    "        end\n",
    "        for j in 1:(length(branch_node) - 1)\n",
    "            idx = idx + binomial(n,j)\n",
    "        end\n",
    "        push!(result,Pair(idx, i.length))\n",
    "        idx = 0\n",
    "    end\n",
    "    return result\n",
    "end;\n",
    "\n",
    "function print_bipartition(trees, n)\n",
    "    \n",
    "    # build the table\n",
    "    N = num_bipartitions(n)\n",
    "    data = zeros(length(trees), N)\n",
    "    treeNum = 1;\n",
    "    # get existing index\n",
    "    \n",
    "    for i in trees\n",
    "        bipart = get_bipartition(i, n)\n",
    "        for j in 1:length(bipart)\n",
    "            data[treeNum,(bipart[j][1] + 1)] += bipart[j][2]\n",
    "        end\n",
    "        treeNum+=1\n",
    "    end\n",
    "    return data\n",
    "end;\n",
    "\n",
    "function print_csv(path, n, target)\n",
    "    tree = readMultiTopology(path)\n",
    "    result = print_bipartition(tree, n)\n",
    "    N = num_bipartitions(n)\n",
    "    header = Vector(0:N - 1)\n",
    "    header = string.(header)\n",
    "    CSV.write(target, DataFrame(result, :auto),header = header) \n",
    "end;"
   ]
  },
  {
   "cell_type": "code",
   "execution_count": 3,
   "id": "d3158060",
   "metadata": {},
   "outputs": [
    {
     "data": {
      "text/plain": [
       "\"((4:1.0, 2:1.0):1.0,(3:1.0,1:1.0):1.0);\""
      ]
     },
     "execution_count": 3,
     "metadata": {},
     "output_type": "execute_result"
    }
   ],
   "source": [
    "tree_1 = \"(((4:1.0, 3:1.0):1.0,2:1.0):1.0,1:1.0);\"\n",
    "tree_2 = \"(((4:1.0, 2:1.0):1.0,3:1.0):1.0,1:1.0);\"\n",
    "tree_3 = \"(((3:1.0, 2:1.0):1.0,4:1.0):1.0,1:1.0);\"\n",
    "tree_4 = \"(((4:1.0, 3:1.0):1.0,1:1.0):1.0,2:1.0);\"\n",
    "tree_5 = \"(((4:1.0, 1:1.0):1.0,3:1.0):1.0,2:1.0);\"\n",
    "tree_6 = \"(((1:1.0, 3:1.0):1.0,4:1.0):1.0,2:1.0);\"\n",
    "tree_7 = \"(((1:1.0, 2:1.0):1.0,4:1.0):1.0,3:1.0);\"\n",
    "tree_8 = \"(((4:1.0, 2:1.0):1.0,1:1.0):1.0,3:1.0);\"\n",
    "tree_9 = \"(((4:1.0, 1:1.0):1.0,2:1.0):1.0,3:1.0);\"\n",
    "tree_10 = \"(((2:1.0, 1:1.0):1.0,3:1.0):1.0,4:1.0);\"\n",
    "tree_11 = \"(((1:1.0, 3:1.0):1.0,2:1.0):1.0,4:1.0);\"\n",
    "tree_12 = \"(((3:1.0, 2:1.0):1.0,1:1.0):1.0,4:1.0);\"\n",
    "tree_13 = \"((4:1.0, 3:1.0):1.0,(2:1.0,1:1.0):1.0);\"\n",
    "tree_14 = \"((4:1.0, 1:1.0):1.0,(2:1.0,3:1.0):1.0);\"\n",
    "tree_15 = \"((4:1.0, 2:1.0):1.0,(3:1.0,1:1.0):1.0);\""
   ]
  },
  {
   "cell_type": "code",
   "execution_count": 4,
   "id": "bc100176",
   "metadata": {},
   "outputs": [],
   "source": [
    "trees_string = [tree_1,tree_2,tree_3,tree_4,tree_5,tree_6,tree_7,tree_8,tree_9,tree_10,tree_11,tree_12,tree_13,tree_14,tree_15];"
   ]
  },
  {
   "cell_type": "code",
   "execution_count": 5,
   "id": "10923f82",
   "metadata": {},
   "outputs": [
    {
     "data": {
      "text/plain": [
       "change_branch (generic function with 1 method)"
      ]
     },
     "execution_count": 5,
     "metadata": {},
     "output_type": "execute_result"
    }
   ],
   "source": [
    "using Random\n",
    "\n",
    "\n",
    "function change_branch(newick_tree, seed)\n",
    "    tree_1 = readTopology(newick_tree);\n",
    "    tree_2 = readTopology(newick_tree);\n",
    "    tree_3 = readTopology(newick_tree);\n",
    "    tree_4 = readTopology(newick_tree);\n",
    "    tree_5 = readTopology(newick_tree);\n",
    "    tree_6 = readTopology(newick_tree);\n",
    "\n",
    "    \n",
    "    Random.seed!(seed)\n",
    "\n",
    "    n=length(tree_1.edge)\n",
    "    \n",
    "    \n",
    "    for e in tree_2.edge\n",
    "        e.length += 0.5\n",
    "    end\n",
    "    \n",
    "    a = rand(1:99, n)\n",
    "    i = 1\n",
    "    for e in tree_3.edge\n",
    "        inc = a[i]/100\n",
    "        e.length += inc\n",
    "        e.length = round(e.length, digits = 2)\n",
    "        i += 1\n",
    "    end\n",
    "    \n",
    "\n",
    "    for e in tree_4.edge\n",
    "        e.length -= 0.5\n",
    "    end\n",
    "    \n",
    "    Random.seed!(seed + 10)\n",
    "    a = rand(1:99, n)\n",
    "    i = 1\n",
    "    for e in tree_5.edge\n",
    "        dec = a[i]/100\n",
    "        e.length -= dec\n",
    "        e.length = round(e.length, digits = 2)\n",
    "        i += 1\n",
    "    end\n",
    "    \n",
    "    Random.seed!(seed + 20)\n",
    "    a = rand(-99:99, n)\n",
    "    i = 1\n",
    "    for e in tree_6.edge\n",
    "        dec = a[i]/100\n",
    "        e.length -= dec\n",
    "        e.length = round(e.length, digits = 2)\n",
    "        i += 1\n",
    "    end\n",
    "    \n",
    "    trees = [tree_1,tree_2,tree_3,tree_4,tree_5,tree_6];\n",
    "    return trees\n",
    "end"
   ]
  },
  {
   "cell_type": "code",
   "execution_count": 7,
   "id": "f8f49bfc",
   "metadata": {},
   "outputs": [],
   "source": [
    "Random.seed!(123)\n",
    "for i in 1:length(trees_string)\n",
    "    trees = change_branch(trees_string[i], 123+i)\n",
    "    for j in 1:length(trees)\n",
    "        tree = simulatecoalescent(trees[j], 100, 1);\n",
    "        path = \"./data/rawdata/4_taxa_\" * string(i) * \"_\" * string(j) * \"_100.trees\" \n",
    "        writeMultiTopology(tree, path)\n",
    "        path = \"./data/rawdata/4_taxa_\" * string(i) * \"_\" * string(j) * \"_100.trees\" \n",
    "        target = \"data/4_taxa_\" * string(i) * \"_\" * string(j) * \"_100.csv\"\n",
    "        print_csv(path, 4, target);\n",
    "    end\n",
    "end"
   ]
  },
  {
   "cell_type": "code",
   "execution_count": 7,
   "id": "cc78e15a",
   "metadata": {},
   "outputs": [],
   "source": [
    "Random.seed!(123)\n",
    "for k in 1:100\n",
    "    for i in 1:length(trees_string)\n",
    "        trees = change_branch(trees_string[i],1 + i + k * 100)\n",
    "        for j in 1:length(trees)\n",
    "            tree = simulatecoalescent(trees[j], 1000, 1);\n",
    "            path = \"./data/rawdata/4_taxa_\" * string(i) * \"_\" * string(j) * \"_1000_\" * string(k) * \".trees\" \n",
    "            writeMultiTopology(tree, path)\n",
    "            path = \"./data/rawdata/4_taxa_\" * string(i) * \"_\" * string(j) * \"_1000_\" * string(k) * \".trees\" \n",
    "            target = \"data/4_taxa_\" * string(i) * \"_\" * string(j) * \"_1000_\" * string(k) * \".csv\"\n",
    "            print_csv(path, 4, target);\n",
    "        end\n",
    "    end\n",
    "end"
   ]
  },
  {
   "cell_type": "code",
   "execution_count": null,
   "id": "98ab7c25",
   "metadata": {},
   "outputs": [],
   "source": [
    "Random.seed!(123)\n",
    "\n",
    "for k in 1:20\n",
    "    for i in 1:length(trees_string)\n",
    "        trees = change_branch(trees_string[i],1 + i + k * 10)\n",
    "        for j in 1:length(trees)\n",
    "            tree = simulatecoalescent(trees[j], 5000, 1);\n",
    "            path = \"./data/rawdata/4_taxa_\" * string(i) * \"_\" * string(j) * \"_5000_\" * string(k) * \".trees\" \n",
    "            writeMultiTopology(tree, path)\n",
    "            path = \"./data/rawdata/4_taxa_\" * string(i) * \"_\" * string(j) * \"_5000_\" * string(k) * \".trees\" \n",
    "            target = \"data/4_taxa_\" * string(i) * \"_\" * string(j) * \"_5000_\" * string(k) * \".csv\"\n",
    "            print_csv(path, 4, target);\n",
    "        end\n",
    "    end\n",
    "end"
   ]
  },
  {
   "cell_type": "code",
   "execution_count": 15,
   "id": "06fad49c",
   "metadata": {},
   "outputs": [],
   "source": [
    "# different topologies with randomly chosen branch lengths Uniform (0.5, 2.0)\n",
    "using Distributions\n",
    "\n",
    "d = Uniform(-0.5, 1)\n",
    "for i in 1:100\n",
    "    for j in 1:length(trees_string)\n",
    "        tree = readTopology(trees_string[j])\n",
    "        Random.seed!((123+i)*j)\n",
    "        n = length(tree.edge)\n",
    "\n",
    "        x = rand(d, n)\n",
    "        idx = 1\n",
    "        for e in tree.edge\n",
    "            e.length += x[idx]\n",
    "            e.length = round(e.length, digits = 2)\n",
    "            idx += 1\n",
    "        end\n",
    "        \n",
    "        tree = simulatecoalescent(tree, 1000, 1);        \n",
    "        path = \"./data/rawdata/4_diff_topo_\" * string(j) *  \"_1000_\" * string(i) * \".trees\" \n",
    "        writeMultiTopology(tree, path)\n",
    "        path = \"./data/rawdata/4_diff_topo_\" * string(j) *  \"_1000_\" * string(i) * \".trees\" \n",
    "        target = \"data/4_diff_topo_\" * string(j) *  \"_1000_\" * string(i) * \".csv\"\n",
    "        print_csv(path, 4, target);\n",
    "    end\n",
    "end"
   ]
  },
  {
   "cell_type": "code",
   "execution_count": 3,
   "id": "3667dc50",
   "metadata": {},
   "outputs": [
    {
     "data": {
      "image/png": "[encoded data removed]"
     },
     "metadata": {},
     "output_type": "display_data"
    },
    {
     "data": {
      "image/png": "[encoded data removed]"
     },
     "metadata": {},
     "output_type": "display_data"
    },
    {
     "data": {
      "image/png": "[encoded data removed]"
     },
     "metadata": {},
     "output_type": "display_data"
    }
   ],
   "source": [
    "net = readTopology(\"(((1:1.0,(2:0.5)#H1:0.5::0.5):1.0,(#H1:0.5::0.5, 3:0.5)):1.0,4:1.0);\");\n",
    "plot(net,showgamma=true, showedgenumber=true,);\n",
    "tree_p1 = readTopology(\"(((1:1.0,2:1.0):1.0, 3:1.0):1.0,4:1.0);\");\n",
    "plot(tree_p1);\n",
    "tree_p2 = readTopology(\"((1:1.0,(2:1.0, 3:1.0):1.0):1.0,4:1.0);\");\n",
    "plot(tree_p2);"
   ]
  },
  {
   "cell_type": "code",
   "execution_count": 13,
   "id": "a97fe9f7",
   "metadata": {},
   "outputs": [],
   "source": [
    "network = simulatecoalescent(net, 400, 1)\n",
    "writeMultiTopology(network, \"./data/rawdata/network.trees\")\n",
    "print_csv(\"./data/rawdata/network.trees\", 4, \"./data/network.csv\");\n",
    "tree_1 = simulatecoalescent(tree_p1, 200, 1)\n",
    "writeMultiTopology(tree_1, \"./data/rawdata/network_tree_1.trees\")\n",
    "print_csv(\"./data/rawdata/network_tree_1.trees\", 4, \"./data/network_tree_1.csv\");\n",
    "tree_2 = simulatecoalescent(tree_p2, 200, 1)\n",
    "writeMultiTopology(tree_2, \"./data/rawdata/network_tree_2.trees\")\n",
    "print_csv(\"./data/rawdata/network_tree_2.trees\", 4, \"./data/network_tree_2.csv\");"
   ]
  },
  {
   "cell_type": "code",
   "execution_count": null,
   "id": "3bd8881f",
   "metadata": {},
   "outputs": [],
   "source": []
  }
 ],
 "metadata": {
  "kernelspec": {
   "display_name": "Julia 1.7.3",
   "language": "julia",
   "name": "julia-1.7"
  },
  "language_info": {
   "file_extension": ".jl",
   "mimetype": "application/julia",
   "name": "julia",
   "version": "1.7.3"
  }
 },
 "nbformat": 4,
 "nbformat_minor": 5
}
