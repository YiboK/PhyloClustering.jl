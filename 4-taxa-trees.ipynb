{
 "cells": [
  {
   "cell_type": "code",
   "execution_count": 22,
   "id": "43c00ba6",
   "metadata": {},
   "outputs": [],
   "source": [
    "using PhyloNetworks\n",
    "using PhyloPlots\n",
    "using PhyloCoalSimulations\n",
    "using Combinatorics\n",
    "using Formatting"
   ]
  },
  {
   "cell_type": "code",
   "execution_count": 23,
   "id": "0a18da33",
   "metadata": {},
   "outputs": [],
   "source": [
    "using CSV, DataFrames\n",
    "\n",
    "function num_bipartitions(n)\n",
    "    return 2^(n-1) - 1\n",
    "end;\n",
    "\n",
    "function get_nodes(idx)\n",
    "    nodes = []\n",
    "    for i in 1:length(idx)\n",
    "        if idx[i]\n",
    "            append!(nodes, i)\n",
    "        end\n",
    "    end\n",
    "    return nodes\n",
    "end\n",
    "\n",
    "\n",
    "function get_bipartition(tree, n)\n",
    "    taxa = sort(tipLabels(tree))\n",
    "    if length(taxa) != n\n",
    "        print(\"check the parameter n\")\n",
    "        return\n",
    "    end\n",
    "    node = Vector(1:n)\n",
    "    result = []\n",
    "    idx = 0\n",
    "    for i in tree.edge\n",
    "        node_idx = hardwiredCluster(i,taxa)\n",
    "        branch_node = get_nodes(node_idx)\n",
    "        \n",
    "        # if branch seperates more than half nodes, we use the small part to get bipartition idx\n",
    "        if (length(branch_node) > n ÷ 2)\n",
    "             branch_node = sort(collect(setdiff(node,branch_node)))\n",
    "        end\n",
    "        \n",
    "        # generate all possible combination with the same number of nodes\n",
    "        comb = collect(combinations(Vector(1:n), length(branch_node)))\n",
    "        for c in 1:length(comb)\n",
    "            if comb[c] == branch_node\n",
    "                # if the combination is the later, we need to find its first half\n",
    "                if length(branch_node) > 1 && c > length(comb) ÷ 2\n",
    "                    c = length(comb) - c + 1 \n",
    "                end\n",
    "                idx = c - 1\n",
    "                break\n",
    "            end\n",
    "        end\n",
    "        for j in 1:(length(branch_node) - 1)\n",
    "            idx = idx + binomial(n,j)\n",
    "        end\n",
    "        push!(result,Pair(idx, i.length))\n",
    "        idx = 0\n",
    "    end\n",
    "    return result\n",
    "end;\n",
    "\n",
    "function print_bipartition(trees, n)\n",
    "    \n",
    "    # build the table\n",
    "    N = num_bipartitions(n)\n",
    "    data = zeros(length(trees), N)\n",
    "    treeNum = 1;\n",
    "    # get existing index\n",
    "    \n",
    "    for i in trees\n",
    "        bipart = get_bipartition(i, n)\n",
    "        for j in 1:length(bipart)\n",
    "            data[treeNum,(bipart[j][1] + 1)] += bipart[j][2]\n",
    "        end\n",
    "        treeNum+=1\n",
    "    end\n",
    "    return data\n",
    "end;\n",
    "\n",
    "function print_csv(path, n, target)\n",
    "    tree = readMultiTopology(path)\n",
    "    result = print_bipartition(tree, n)\n",
    "    N = num_bipartitions(n)\n",
    "    header = Vector(0:N - 1)\n",
    "    header = string.(header)\n",
    "    CSV.write(target, DataFrame(result, :auto),header = header) \n",
    "end;"
   ]
  },
  {
   "cell_type": "code",
   "execution_count": 19,
   "id": "d3158060",
   "metadata": {},
   "outputs": [
    {
     "data": {
      "text/plain": [
       "\"((4:1.0, 2:1.0):1.0,(3:1.0,1:1.0):1.0);\""
      ]
     },
     "execution_count": 19,
     "metadata": {},
     "output_type": "execute_result"
    }
   ],
   "source": [
    "tree_1 = \"(((4:1.0, 3:1.0):1.0,2:1.0):1.0,1:1.0);\"\n",
    "tree_2 = \"(((4:1.0, 2:1.0):1.0,3:1.0):1.0,1:1.0);\"\n",
    "tree_3 = \"(((3:1.0, 2:1.0):1.0,4:1.0):1.0,1:1.0);\"\n",
    "tree_4 = \"(((4:1.0, 3:1.0):1.0,1:1.0):1.0,2:1.0);\"\n",
    "tree_5 = \"(((4:1.0, 1:1.0):1.0,3:1.0):1.0,2:1.0);\"\n",
    "tree_6 = \"(((1:1.0, 3:1.0):1.0,4:1.0):1.0,2:1.0);\"\n",
    "tree_7 = \"(((1:1.0, 2:1.0):1.0,4:1.0):1.0,3:1.0);\"\n",
    "tree_8 = \"(((4:1.0, 2:1.0):1.0,1:1.0):1.0,3:1.0);\"\n",
    "tree_9 = \"(((4:1.0, 1:1.0):1.0,2:1.0):1.0,3:1.0);\"\n",
    "tree_10 = \"(((2:1.0, 1:1.0):1.0,3:1.0):1.0,4:1.0);\"\n",
    "tree_11 = \"(((1:1.0, 3:1.0):1.0,2:1.0):1.0,4:1.0);\"\n",
    "tree_12 = \"(((3:1.0, 2:1.0):1.0,1:1.0):1.0,4:1.0);\"\n",
    "tree_13 = \"((4:1.0, 3:1.0):1.0,(2:1.0,1:1.0):1.0);\"\n",
    "tree_14 = \"((4:1.0, 1:1.0):1.0,(2:1.0,3:1.0):1.0);\"\n",
    "tree_15 = \"((4:1.0, 2:1.0):1.0,(3:1.0,1:1.0):1.0);\""
   ]
  },
  {
   "cell_type": "code",
   "execution_count": 20,
   "id": "bc100176",
   "metadata": {},
   "outputs": [],
   "source": [
    "trees_string = [tree_1,tree_2,tree_3,tree_4,tree_5,tree_6,tree_7,tree_8,tree_9,tree_10,tree_11,tree_12,tree_13,tree_14,tree_15];"
   ]
  },
  {
   "cell_type": "code",
   "execution_count": 21,
   "id": "10923f82",
   "metadata": {},
   "outputs": [
    {
     "data": {
      "text/plain": [
       "change_branch (generic function with 1 method)"
      ]
     },
     "execution_count": 21,
     "metadata": {},
     "output_type": "execute_result"
    }
   ],
   "source": [
    "using Random\n",
    "\n",
    "\n",
    "function change_branch(newick_tree, seed, tree_i)\n",
    "    tree_1 = readTopology(newick_tree);\n",
    "    tree_2 = readTopology(newick_tree);\n",
    "    tree_3 = readTopology(newick_tree);\n",
    "    tree_4 = readTopology(newick_tree);\n",
    "    tree_5 = readTopology(newick_tree);\n",
    "    tree_6 = readTopology(newick_tree);\n",
    "\n",
    "    Random.seed!(seed)\n",
    "    \n",
    "\n",
    "    n=length(tree_1.edge)\n",
    "\n",
    "    for e in tree_2.edge\n",
    "        e.length += 0.5\n",
    "    end\n",
    "\n",
    "    a = rand(0:100, n)\n",
    "    i = 1\n",
    "    \n",
    "    for e in tree_3.edge\n",
    "        inc = a[i]/100\n",
    "        e.length += inc\n",
    "        e.length = round(e.length, digits = 2)\n",
    "        i += 1\n",
    "    end\n",
    "    \n",
    "\n",
    "    for e in tree_4.edge\n",
    "        e.length -= 0.5\n",
    "    end\n",
    "\n",
    "    i = 1\n",
    "    for e in tree_5.edge\n",
    "        dec = a[i]/100\n",
    "        e.length -= dec\n",
    "        e.length = round(e.length, digits = 2)\n",
    "        i += 1\n",
    "    end\n",
    "\n",
    "    a = rand(-100:100, n)\n",
    "    i = 1\n",
    "    for e in tree_6.edge\n",
    "        dec = a[i]/100\n",
    "        e.length -= dec\n",
    "        e.length = round(e.length, digits = 2)\n",
    "        i += 1\n",
    "    end\n",
    "    \n",
    "    trees = [tree_1,tree_2,tree_3,tree_4,tree_5,tree_6];\n",
    "    return trees\n",
    "end"
   ]
  },
  {
   "cell_type": "code",
   "execution_count": 10,
   "id": "f8f49bfc",
   "metadata": {},
   "outputs": [],
   "source": [
    "for i in 1:length(trees_string)\n",
    "    trees = change_branch(trees_string[i], 123, i)\n",
    "    for j in 1:length(trees)\n",
    "        tree = simulatecoalescent(trees[j], 100, 1);\n",
    "        path = \"./data/rawdata/4_taxa_\" * string(i) * \"_\" * string(j) * \"_100.trees\" \n",
    "        writeMultiTopology(tree, path)\n",
    "        path = \"./data/rawdata/4_taxa_\" * string(i) * \"_\" * string(j) * \"_100.trees\" \n",
    "        target = \"data/4_taxa_\" * string(i) * \"_\" * string(j) * \"_100.csv\"\n",
    "        print_csv(path, 4, target);\n",
    "    end\n",
    "end"
   ]
  },
  {
   "cell_type": "code",
   "execution_count": 11,
   "id": "cc78e15a",
   "metadata": {},
   "outputs": [],
   "source": [
    "for i in 1:length(trees_string)\n",
    "    trees = change_branch(trees_string[i], 123, i)\n",
    "    for j in 1:length(trees)\n",
    "        tree = simulatecoalescent(trees[j], 1000, 1);\n",
    "        path = \"./data/rawdata/4_taxa_\" * string(i) * \"_\" * string(j) * \"_1000.trees\" \n",
    "        writeMultiTopology(tree, path)\n",
    "        path = \"./data/rawdata/4_taxa_\" * string(i) * \"_\" * string(j) * \"_1000.trees\" \n",
    "        target = \"data/4_taxa_\" * string(i) * \"_\" * string(j) * \"_1000.csv\"\n",
    "        print_csv(path, 4, target);\n",
    "    end\n",
    "end"
   ]
  },
  {
   "cell_type": "code",
   "execution_count": 12,
   "id": "98ab7c25",
   "metadata": {},
   "outputs": [],
   "source": [
    "for i in 1:length(trees_string)\n",
    "    trees = change_branch(trees_string[i], 123, i)\n",
    "    for j in 1:length(trees)\n",
    "        tree = simulatecoalescent(trees[j], 5000, 1);\n",
    "        path = \"./data/rawdata/4_taxa_\" * string(i) * \"_\" * string(j) * \"_5000.trees\" \n",
    "        writeMultiTopology(tree, path)\n",
    "        path = \"./data/rawdata/4_taxa_\" * string(i) * \"_\" * string(j) * \"_5000.trees\" \n",
    "        target = \"data/4_taxa_\" * string(i) * \"_\" * string(j) * \"_5000.csv\"\n",
    "        print_csv(path, 4, target);\n",
    "    end\n",
    "end"
   ]
  },
  {
   "cell_type": "code",
   "execution_count": 30,
   "id": "3667dc50",
   "metadata": {},
   "outputs": [
    {
     "data": {
      "image/png": "[encoded data removed]"
     },
     "metadata": {},
     "output_type": "display_data"
    },
    {
     "data": {
      "text/plain": [
       "(0.6, 5.44, 0.5, 5.5, [5.0, 5.0, 4.0, 3.0, 5.0, 3.0, 2.0, 5.0, 1.0], [1.0, 2.0, 2.0, 1.5, 4.0, 3.5, 2.5, 5.0, 3.75], [1.0, 2.0, 2.0, 1.0, 4.0, 3.0, 1.5, 5.0, 2.5], [1.0, 2.0, 2.0, 2.0, 4.0, 4.0, 3.5, 5.0, 5.0], [3.0, 4.0, 3.0, 2.0, 3.0, 3.0, 2.0, 1.0, 1.0], [5.0, 5.0, 4.0, 3.0, 4.0, 5.0, 3.0, 2.0, 5.0], [1.0, 2.0, 2.0, 1.5, 3.0, 4.0, 3.5, 2.5, 5.0], [1.0, 2.0, 2.0, 1.5, 3.0, 4.0, 3.5, 2.5, 5.0], \u001b[1m4×6 DataFrame\u001b[0m\n",
       "\u001b[1m Row \u001b[0m│\u001b[1m name   \u001b[0m\u001b[1m num    \u001b[0m\u001b[1m lab    \u001b[0m\u001b[1m lea  \u001b[0m\u001b[1m x       \u001b[0m\u001b[1m y       \u001b[0m\n",
       "\u001b[1m     \u001b[0m│\u001b[90m String \u001b[0m\u001b[90m String \u001b[0m\u001b[90m String \u001b[0m\u001b[90m Bool \u001b[0m\u001b[90m Float64 \u001b[0m\u001b[90m Float64 \u001b[0m\n",
       "─────┼────────────────────────────────────────────────\n",
       "   1 │ 1       1      \u001b[90m #undef \u001b[0m true      5.0      1.0\n",
       "   2 │ 2       2      \u001b[90m #undef \u001b[0m true      5.0      2.0\n",
       "   3 │ 3       4      \u001b[90m #undef \u001b[0m true      5.0      4.0\n",
       "   4 │ 4       5      \u001b[90m #undef \u001b[0m true      5.0      5.0, \u001b[1m9×8 DataFrame\u001b[0m\n",
       "\u001b[1m Row \u001b[0m│\u001b[1m len    \u001b[0m\u001b[1m gam    \u001b[0m\u001b[1m num    \u001b[0m\u001b[1m lab    \u001b[0m\u001b[1m hyb   \u001b[0m\u001b[1m min   \u001b[0m\u001b[1m x       \u001b[0m\u001b[1m y       \u001b[0m\n",
       "\u001b[1m     \u001b[0m│\u001b[90m String \u001b[0m\u001b[90m String \u001b[0m\u001b[90m String \u001b[0m\u001b[90m String \u001b[0m\u001b[90m Bool  \u001b[0m\u001b[90m Bool  \u001b[0m\u001b[90m Float64 \u001b[0m\u001b[90m Float64 \u001b[0m\n",
       "─────┼────────────────────────────────────────────────────────────────\n",
       "   1 │ 1       1       1      \u001b[90m #undef \u001b[0m false  false      4.0      1.0\n",
       "   2 │ 0.5     1       2      \u001b[90m #undef \u001b[0m false  false      4.5      2.0\n",
       "   3 │ 0.5     0.5     3      \u001b[90m #undef \u001b[0m  true  false      3.5      2.0\n",
       "   4 │ 1       1       4      \u001b[90m #undef \u001b[0m false  false      2.5      1.5\n",
       "   5 │ 0.5     0.5     5      \u001b[90m #undef \u001b[0m  true   true      3.5      3.0\n",
       "   6 │ 0.5     1       6      \u001b[90m #undef \u001b[0m false  false      4.0      4.0\n",
       "   7 │         1       7      \u001b[90m #undef \u001b[0m false  false      2.5      3.5\n",
       "   8 │ 1       1       8      \u001b[90m #undef \u001b[0m false  false      1.5      2.5\n",
       "   9 │ 1       1       9      \u001b[90m #undef \u001b[0m false  false      3.0      5.0)"
      ]
     },
     "execution_count": 30,
     "metadata": {},
     "output_type": "execute_result"
    }
   ],
   "source": [
    "net = readTopology(\"(((1:1.0,(2:0.5)#H1:0.5::0.5):1.0,(#H1:0.5::0.5, 3:0.5)):1.0,4:1.0);\");\n",
    "plot(net,showgamma=true, showedgenumber=true,)"
   ]
  },
  {
   "cell_type": "code",
   "execution_count": 34,
   "id": "a97fe9f7",
   "metadata": {},
   "outputs": [
    {
     "data": {
      "image/png": "[encoded data removed]"
     },
     "metadata": {},
     "output_type": "display_data"
    },
    {
     "data": {
      "image/png": "[encoded data removed]"
     },
     "metadata": {},
     "output_type": "display_data"
    }
   ],
   "source": [
    "tree_p1 = readTopology(\"(((1:1.0,2:1.0):1.0, 3:1.0):1.0,4:1.0);\");\n",
    "plot(tree_p1);\n",
    "tree_p2 = readTopology(\"((1:1.0,(2:1.0, 3:1.0):1.0):1.0,4:1.0);\");\n",
    "plot(tree_p2);"
   ]
  },
  {
   "cell_type": "code",
   "execution_count": null,
   "id": "3bd8881f",
   "metadata": {},
   "outputs": [],
   "source": []
  }
 ],
 "metadata": {
  "kernelspec": {
   "display_name": "Julia 1.7.3",
   "language": "julia",
   "name": "julia-1.7"
  },
  "language_info": {
   "file_extension": ".jl",
   "mimetype": "application/julia",
   "name": "julia",
   "version": "1.7.3"
  }
 },
 "nbformat": 4,
 "nbformat_minor": 5
}
