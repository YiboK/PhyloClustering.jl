{
 "cells": [
  {
   "cell_type": "markdown",
   "id": "close-filling",
   "metadata": {},
   "source": [
    "# biopython"
   ]
  },
  {
   "cell_type": "code",
   "execution_count": 1,
   "id": "incomplete-template",
   "metadata": {},
   "outputs": [],
   "source": [
    "from Bio import Phylo"
   ]
  },
  {
   "cell_type": "markdown",
   "id": "unexpected-report",
   "metadata": {},
   "source": [
    "## [Phylo - Working with Phylogenetic Trees](https://biopython.org/wiki/Phylo)"
   ]
  },
  {
   "cell_type": "code",
   "execution_count": 2,
   "id": "stunning-playlist",
   "metadata": {
    "scrolled": false
   },
   "outputs": [],
   "source": [
    "trees = Phylo.parse('data/n10-1_astral.in', 'newick')\n",
    "tree = next(trees)"
   ]
  },
  {
   "cell_type": "markdown",
   "id": "impressive-conviction",
   "metadata": {},
   "source": [
    "## [Bio.Phylo.BaseTree module](https://biopython.org/docs/latest/api/Bio.Phylo.BaseTree.html#Bio.Phylo.BaseTree.TreeMixin.is_parent_of)"
   ]
  },
  {
   "cell_type": "code",
   "execution_count": 3,
   "id": "operational-creation",
   "metadata": {},
   "outputs": [
    {
     "data": {
      "image/png": "[encoded data removed]",
      "text/plain": [
       "<Figure size 432x288 with 1 Axes>"
      ]
     },
     "metadata": {
      "needs_background": "light"
     },
     "output_type": "display_data"
    }
   ],
   "source": [
    "Phylo.draw(tree)"
   ]
  },
  {
   "cell_type": "code",
   "execution_count": 4,
   "id": "statewide-sheet",
   "metadata": {},
   "outputs": [
    {
     "data": {
      "text/plain": [
       "Clade(branch_length=0.0412232, name='3')"
      ]
     },
     "execution_count": 4,
     "metadata": {},
     "output_type": "execute_result"
    }
   ],
   "source": [
    "tree.root[2][0][0]"
   ]
  },
  {
   "cell_type": "markdown",
   "id": "smoking-conditions",
   "metadata": {},
   "source": [
    "# ete"
   ]
  },
  {
   "cell_type": "markdown",
   "id": "macro-spread",
   "metadata": {},
   "source": [
    "## [ETE Tree](http://etetoolkit.org/docs/latest/reference/reference_tree.html#ete3.Tree)"
   ]
  },
  {
   "cell_type": "code",
   "execution_count": 5,
   "id": "defined-shuttle",
   "metadata": {},
   "outputs": [],
   "source": [
    "from ete3 import Tree"
   ]
  },
  {
   "cell_type": "code",
   "execution_count": 6,
   "id": "extraordinary-dancing",
   "metadata": {},
   "outputs": [],
   "source": [
    "with open('data/n10-1_astral.in', 'r') as file:\n",
    "    trees = [Tree(line) for line in file]"
   ]
  },
  {
   "cell_type": "code",
   "execution_count": 7,
   "id": "vocal-directive",
   "metadata": {},
   "outputs": [],
   "source": [
    "tree = trees[0]\n",
    "tree.show()"
   ]
  },
  {
   "cell_type": "code",
   "execution_count": 8,
   "id": "comfortable-teddy",
   "metadata": {},
   "outputs": [
    {
     "data": {
      "text/plain": [
       "Tree node '3' (0x7faed076b88)"
      ]
     },
     "execution_count": 8,
     "metadata": {},
     "output_type": "execute_result"
    }
   ],
   "source": [
    "tree.children[2].children[0].children[0]"
   ]
  },
  {
   "cell_type": "markdown",
   "id": "green-casting",
   "metadata": {},
   "source": [
    "# dendropy"
   ]
  },
  {
   "cell_type": "markdown",
   "id": "brief-automation",
   "metadata": {},
   "source": [
    "# [The Bipartition Class](https://dendropy.org/library/treemodel.html#the-bipartition-class)"
   ]
  },
  {
   "cell_type": "code",
   "execution_count": null,
   "id": "acquired-arrangement",
   "metadata": {},
   "outputs": [],
   "source": []
  }
 ],
 "metadata": {
  "kernelspec": {
   "display_name": "Python 3",
   "language": "python",
   "name": "python3"
  },
  "language_info": {
   "codemirror_mode": {
    "name": "ipython",
    "version": 3
   },
   "file_extension": ".py",
   "mimetype": "text/x-python",
   "name": "python",
   "nbconvert_exporter": "python",
   "pygments_lexer": "ipython3",
   "version": "3.8.5"
  }
 },
 "nbformat": 4,
 "nbformat_minor": 5
}
