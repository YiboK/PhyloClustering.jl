{
 "cells": [
  {
   "cell_type": "code",
   "execution_count": 77,
   "id": "04540ae5",
   "metadata": {},
   "outputs": [],
   "source": [
    "using PhyloNetworks\n",
    "using PhyloPlots\n",
    "using Combinatorics\n",
    "using Formatting\n",
    "\n",
    "trees = readMultiTopology(\"data/rawdata/4taxa_trees.tre\");"
   ]
  },
  {
   "cell_type": "code",
   "execution_count": 78,
   "id": "04864860",
   "metadata": {},
   "outputs": [
    {
     "data": {
      "text/plain": [
       "HybridNetwork, Rooted Network\n",
       "6 edges\n",
       "7 nodes: 4 tips, 0 hybrid nodes, 3 internal tree nodes.\n",
       "tip labels: 4, 3, 1, 2\n",
       "(4:3.866,(3:1.593,(1:1.208,2:1.208):0.386):2.273);\n"
      ]
     },
     "execution_count": 78,
     "metadata": {},
     "output_type": "execute_result"
    }
   ],
   "source": [
    "tree = trees[1]"
   ]
  },
  {
   "cell_type": "code",
   "execution_count": 79,
   "id": "5b66d6c5",
   "metadata": {},
   "outputs": [
    {
     "data": {
      "text/plain": [
       "6-element Vector{Float64}:\n",
       " 3.866325\n",
       " 1.593392\n",
       " 1.207652\n",
       " 1.207652\n",
       " 0.38574\n",
       " 2.272933"
      ]
     },
     "execution_count": 79,
     "metadata": {},
     "output_type": "execute_result"
    }
   ],
   "source": [
    "[e.length for e in tree.edge]"
   ]
  },
  {
   "cell_type": "code",
   "execution_count": 80,
   "id": "8dbea535",
   "metadata": {},
   "outputs": [
    {
     "data": {
      "image/png": "[encoded data removed]"
     },
     "metadata": {},
     "output_type": "display_data"
    }
   ],
   "source": [
    "plot(tree, :R, showEdgeLength=true);"
   ]
  },
  {
   "cell_type": "code",
   "execution_count": 81,
   "id": "2bbcdebe",
   "metadata": {},
   "outputs": [],
   "source": [
    "function num_bipartitions(n)\n",
    "    return 2^(n-1) - 1\n",
    "end;"
   ]
  },
  {
   "cell_type": "code",
   "execution_count": 82,
   "id": "d749021e",
   "metadata": {
    "scrolled": false
   },
   "outputs": [
    {
     "name": "stdout",
     "output_type": "stream",
     "text": [
      "idx\tpartition\n",
      " 0\t1 | 2 3 4 5 6 \n",
      " 1\t2 | 1 3 4 5 6 \n",
      " 2\t3 | 1 2 4 5 6 \n",
      " 3\t4 | 1 2 3 5 6 \n",
      " 4\t5 | 1 2 3 4 6 \n",
      " 5\t6 | 1 2 3 4 5 \n",
      " 6\t1 2 | 3 4 5 6 \n",
      " 7\t1 3 | 2 4 5 6 \n",
      " 8\t1 4 | 2 3 5 6 \n",
      " 9\t1 5 | 2 3 4 6 \n",
      "10\t1 6 | 2 3 4 5 \n",
      "11\t2 3 | 1 4 5 6 \n",
      "12\t2 4 | 1 3 5 6 \n",
      "13\t2 5 | 1 3 4 6 \n",
      "14\t2 6 | 1 3 4 5 \n",
      "15\t3 4 | 1 2 5 6 \n",
      "16\t3 5 | 1 2 4 6 \n",
      "17\t3 6 | 1 2 4 5 \n",
      "18\t4 5 | 1 2 3 6 \n",
      "19\t4 6 | 1 2 3 5 \n",
      "20\t5 6 | 1 2 3 4 \n",
      "21\t1 2 3 | 4 5 6 \n",
      "22\t1 2 4 | 3 5 6 \n",
      "23\t1 2 5 | 3 4 6 \n",
      "24\t1 2 6 | 3 4 5 \n",
      "25\t1 3 4 | 2 5 6 \n",
      "26\t1 3 5 | 2 4 6 \n",
      "27\t1 3 6 | 2 4 5 \n",
      "28\t1 4 5 | 2 3 6 \n",
      "29\t1 4 6 | 2 3 5 \n",
      "30\t1 5 6 | 2 3 4 \n"
     ]
    }
   ],
   "source": [
    "# is there prinf with variable length in julia?\n",
    "\n",
    "function show_bipartitions(n, start=0, stop=nothing)\n",
    "    idx_width = length(string(num_bipartitions(n)))\n",
    "    idx_fmt = FormatSpec(string(\">\", idx_width, \"s\"))\n",
    "    node_width = length(string(n))\n",
    "    node_fmt = fmt = FormatSpec(string(\">\", node_width, \"s\"))\n",
    "    idx = 0\n",
    "    node = Vector(1:n)\n",
    "    println(\"idx\\tpartition\")\n",
    "    for i in range(1, n÷2)\n",
    "        \n",
    "        comb = combinations(Vector(1:n), i)\n",
    "        if i == n - i\n",
    "            comb = Iterators.take(comb,  binomial(n,i)÷ 2)\n",
    "        end\n",
    "            \n",
    "        for c in comb\n",
    "            if start <= idx && (stop === nothing || idx <= stop)\n",
    "                printfmt(idx_fmt, idx)\n",
    "                print(\"\\t\")\n",
    "                for e in c\n",
    "                    printfmt(node_fmt, e)\n",
    "                    print(\" \")\n",
    "                end\n",
    "                print(\"| \")\n",
    "                for e in sort(collect(setdiff(node ,Set(c))))\n",
    "                    printfmt(node_fmt, e)\n",
    "                    print(\" \")\n",
    "                end\n",
    "                println()\n",
    "            end\n",
    "            idx += 1\n",
    "        end\n",
    "    end\n",
    "end;\n",
    "\n",
    "show_bipartitions(6)"
   ]
  },
  {
   "cell_type": "code",
   "execution_count": 83,
   "id": "c38ccb36",
   "metadata": {},
   "outputs": [
    {
     "name": "stdout",
     "output_type": "stream",
     "text": [
      "idx\tpartition\n",
      "12\t2 4 | 1 3 5 6 \n"
     ]
    }
   ],
   "source": [
    "function show_bipartition(n, idx)\n",
    "    show_bipartitions(n,idx,idx)\n",
    "end;\n",
    "\n",
    "show_bipartition(6, 12)"
   ]
  },
  {
   "cell_type": "code",
   "execution_count": 84,
   "id": "40d201b6",
   "metadata": {},
   "outputs": [],
   "source": [
    "# get the nodes that the branch has. \n",
    "function get_nodes(idx)\n",
    "    nodes = []\n",
    "    for i in 1:length(idx)\n",
    "        if idx[i]\n",
    "            append!(nodes, i)\n",
    "        end\n",
    "    end\n",
    "    return nodes\n",
    "end\n",
    "\n",
    "\n",
    "function get_bipartition(tree, n)\n",
    "    taxa = sort(tipLabels(tree))\n",
    "    if length(taxa) != n\n",
    "        print(\"check the parameter n\")\n",
    "        return\n",
    "    end\n",
    "    node = Vector(1:n)\n",
    "    result = []\n",
    "    idx = 0\n",
    "    for i in tree.edge\n",
    "        node_idx = hardwiredCluster(i,taxa)\n",
    "        branch_node = get_nodes(node_idx)\n",
    "        \n",
    "        # if branch seperates more than half nodes, we use the small part to get bipartition idx\n",
    "        if (length(branch_node) > n ÷ 2)\n",
    "             branch_node = sort(collect(setdiff(node,branch_node)))\n",
    "        end\n",
    "        \n",
    "        # generate all possible combination with the same number of nodes\n",
    "        comb = collect(combinations(Vector(1:n), length(branch_node)))\n",
    "        for c in 1:length(comb)\n",
    "            if comb[c] == branch_node\n",
    "                idx = c - 1\n",
    "                break\n",
    "            end\n",
    "        end\n",
    "        for j in 1:(length(branch_node) - 1)\n",
    "            idx = idx + binomial(n,j)\n",
    "        end\n",
    "        push!(result,Pair(idx, i.length))\n",
    "    end\n",
    "    return result\n",
    "end;"
   ]
  },
  {
   "cell_type": "code",
   "execution_count": 85,
   "id": "c06ed9cc",
   "metadata": {},
   "outputs": [
    {
     "data": {
      "text/plain": [
       "6-element Vector{Any}:\n",
       " 3 => 3.866325\n",
       " 2 => 1.593392\n",
       " 0 => 1.207652\n",
       " 1 => 1.207652\n",
       " 4 => 0.38574\n",
       " 3 => 2.272933"
      ]
     },
     "execution_count": 85,
     "metadata": {},
     "output_type": "execute_result"
    }
   ],
   "source": [
    "get_bipartition(tree, 4)"
   ]
  },
  {
   "cell_type": "code",
   "execution_count": 86,
   "id": "cefebf9e",
   "metadata": {},
   "outputs": [
    {
     "data": {
      "text/plain": [
       "9-element Vector{Any}:\n",
       "  4 => 0.07877169\n",
       "  5 => 0.06931551\n",
       "  3 => 0.03587151\n",
       "  0 => 0.0256169\n",
       "  1 => 0.01151126\n",
       "  2 => 0.03644864\n",
       " 11 => 0.003646167\n",
       " 21 => 0.01414154\n",
       " 20 => 0.03743503"
      ]
     },
     "execution_count": 86,
     "metadata": {},
     "output_type": "execute_result"
    }
   ],
   "source": [
    "trees = readMultiTopology(\"data/rawdata/n6-1_astral.in\");\n",
    "tree = trees[1]\n",
    "get_bipartition(tree, 6)"
   ]
  },
  {
   "cell_type": "code",
   "execution_count": 87,
   "id": "04e561b4",
   "metadata": {},
   "outputs": [
    {
     "data": {
      "text/plain": [
       "14-element Vector{Any}:\n",
       "   6 => 2.075702026809264\n",
       "   5 => 2.075702026809264\n",
       "  33 => 1.679760395335379\n",
       "   4 => 3.756462422144643\n",
       "  88 => 1.9889874166339636\n",
       "   3 => 5.744449838778606\n",
       " 157 => 1.0648836653941887\n",
       "   1 => 3.6009579347282648\n",
       "   0 => 3.6009579347282648\n",
       "   8 => 2.4886231269539105\n",
       "   2 => 6.089581061682176\n",
       "  36 => 0.7197524424906193\n",
       "   7 => 4.57263257532424\n",
       "   7 => 11.381966079497035"
      ]
     },
     "execution_count": 87,
     "metadata": {},
     "output_type": "execute_result"
    }
   ],
   "source": [
    "trees = readMultiTopology(\"data/rawdata/8_taxa_1.trees\");\n",
    "tree = trees[1]\n",
    "get_bipartition(tree, 8)"
   ]
  },
  {
   "cell_type": "code",
   "execution_count": null,
   "id": "eebcbad8",
   "metadata": {},
   "outputs": [],
   "source": []
  },
  {
   "cell_type": "code",
   "execution_count": null,
   "id": "c2e022e6",
   "metadata": {},
   "outputs": [],
   "source": []
  }
 ],
 "metadata": {
  "kernelspec": {
   "display_name": "Julia 1.7.3",
   "language": "julia",
   "name": "julia-1.7"
  },
  "language_info": {
   "file_extension": ".jl",
   "mimetype": "application/julia",
   "name": "julia",
   "version": "1.7.3"
  }
 },
 "nbformat": 4,
 "nbformat_minor": 5
}
