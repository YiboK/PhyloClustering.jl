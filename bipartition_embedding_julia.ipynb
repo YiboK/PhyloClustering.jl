{
 "cells": [
  {
   "cell_type": "code",
   "execution_count": 2,
   "id": "04540ae5",
   "metadata": {},
   "outputs": [],
   "source": [
    "using PhyloNetworks\n",
    "using PhyloPlots\n",
    "using Combinatorics\n",
    "using Formatting"
   ]
  },
  {
   "cell_type": "code",
   "execution_count": 25,
   "id": "04864860",
   "metadata": {},
   "outputs": [
    {
     "data": {
      "text/plain": [
       "HybridNetwork, Rooted Network\n",
       "6 edges\n",
       "7 nodes: 4 tips, 0 hybrid nodes, 3 internal tree nodes.\n",
       "tip labels: 4, 1, 2, 3\n",
       "(4:4.249,(1:2.457,(2:2.064,3:2.064):0.393):1.793);\n"
      ]
     },
     "execution_count": 25,
     "metadata": {},
     "output_type": "execute_result"
    }
   ],
   "source": [
    "trees = readMultiTopology(\"data/rawdata/one.trees\");\n",
    "tree = trees[4]"
   ]
  },
  {
   "cell_type": "code",
   "execution_count": 26,
   "id": "5b66d6c5",
   "metadata": {},
   "outputs": [
    {
     "data": {
      "text/plain": [
       "6-element Vector{Float64}:\n",
       " 4.249\n",
       " 2.457\n",
       " 2.064\n",
       " 2.064\n",
       " 0.393\n",
       " 1.793"
      ]
     },
     "execution_count": 26,
     "metadata": {},
     "output_type": "execute_result"
    }
   ],
   "source": [
    "[e.length for e in tree.edge]"
   ]
  },
  {
   "cell_type": "code",
   "execution_count": 27,
   "id": "8dbea535",
   "metadata": {},
   "outputs": [
    {
     "data": {
      "image/png": "[encoded data removed]"
     },
     "metadata": {},
     "output_type": "display_data"
    }
   ],
   "source": [
    "plot(tree, :R, showEdgeLength=true);"
   ]
  },
  {
   "cell_type": "code",
   "execution_count": 28,
   "id": "2bbcdebe",
   "metadata": {},
   "outputs": [],
   "source": [
    "function num_bipartitions(n)\n",
    "    return 2^(n-1) - 1\n",
    "end;"
   ]
  },
  {
   "cell_type": "code",
   "execution_count": 29,
   "id": "d749021e",
   "metadata": {
    "scrolled": false
   },
   "outputs": [],
   "source": [
    "# is there prinf with variable length in julia?\n",
    "\n",
    "function show_bipartitions(n, start=0, stop=nothing)\n",
    "    idx_width = length(string(num_bipartitions(n)))\n",
    "    idx_fmt = FormatSpec(string(\">\", idx_width, \"s\"))\n",
    "    node_width = length(string(n))\n",
    "    node_fmt = fmt = FormatSpec(string(\">\", node_width, \"s\"))\n",
    "    idx = 0\n",
    "    node = Vector(1:n)\n",
    "    println(\"idx\\tpartition\")\n",
    "    for i in range(1, n÷2)\n",
    "        \n",
    "        comb = combinations(Vector(1:n), i)\n",
    "        if i == n - i\n",
    "            comb = Iterators.take(comb,  binomial(n,i)÷ 2)\n",
    "        end\n",
    "            \n",
    "        for c in comb\n",
    "            if start <= idx && (stop === nothing || idx <= stop)\n",
    "                printfmt(idx_fmt, idx)\n",
    "                print(\"\\t\")\n",
    "                for e in c\n",
    "                    printfmt(node_fmt, e)\n",
    "                    print(\" \")\n",
    "                end\n",
    "                print(\"| \")\n",
    "                for e in sort(collect(setdiff(node ,Set(c))))\n",
    "                    printfmt(node_fmt, e)\n",
    "                    print(\" \")\n",
    "                end\n",
    "                println()\n",
    "            end\n",
    "            idx += 1\n",
    "        end\n",
    "    end\n",
    "end;\n",
    "\n",
    "function show_bipartition(n, idx)\n",
    "    show_bipartitions(n,idx,idx)\n",
    "end;\n",
    "\n"
   ]
  },
  {
   "cell_type": "code",
   "execution_count": 41,
   "id": "db1b8c3d",
   "metadata": {},
   "outputs": [
    {
     "name": "stdout",
     "output_type": "stream",
     "text": [
      "idx\tpartition\n",
      "0\t1 | 2 3 4 \n",
      "1\t2 | 1 3 4 \n",
      "2\t3 | 1 2 4 \n",
      "3\t4 | 1 2 3 \n",
      "4\t1 2 | 3 4 \n",
      "5\t1 3 | 2 4 \n",
      "6\t1 4 | 2 3 \n",
      "idx\tpartition\n",
      "4\t1 2 | 3 4 \n"
     ]
    }
   ],
   "source": [
    "show_bipartitions(4)\n",
    "show_bipartition(4, 4)"
   ]
  },
  {
   "cell_type": "code",
   "execution_count": 52,
   "id": "40d201b6",
   "metadata": {},
   "outputs": [],
   "source": [
    "# get the nodes that the branch has. \n",
    "function get_nodes(idx)\n",
    "    nodes = []\n",
    "    for i in 1:length(idx)\n",
    "        if idx[i]\n",
    "            append!(nodes, i)\n",
    "        end\n",
    "    end\n",
    "    return nodes\n",
    "end\n",
    "\n",
    "\n",
    "function get_bipartition(tree, n)\n",
    "    taxa = sort(tipLabels(tree))\n",
    "    if length(taxa) != n\n",
    "        print(\"check the parameter n\")\n",
    "        return\n",
    "    end\n",
    "    node = Vector(1:n)\n",
    "    result = []\n",
    "    idx = 0\n",
    "    for i in tree.edge\n",
    "        node_idx = hardwiredCluster(i,taxa)\n",
    "        branch_node = get_nodes(node_idx)\n",
    "        \n",
    "        # if branch seperates more than half nodes, we use the small part to get bipartition idx\n",
    "        if (length(branch_node) > n ÷ 2)\n",
    "             branch_node = sort(collect(setdiff(node,branch_node)))\n",
    "        end\n",
    "        \n",
    "        # generate all possible combination with the same number of nodes\n",
    "        comb = collect(combinations(Vector(1:n), length(branch_node)))\n",
    "        for c in 1:length(comb)\n",
    "            if comb[c] == branch_node\n",
    "                # if the combination is the later, we need to find its first half\n",
    "                if length(branch_node) > 1 && c > length(comb) ÷ 2\n",
    "                    c = length(comb) - c + 1 \n",
    "                end\n",
    "                idx = c - 1\n",
    "                break\n",
    "            end\n",
    "        end\n",
    "        for j in 1:(length(branch_node) - 1)\n",
    "            idx = idx + binomial(n,j)\n",
    "        end\n",
    "        push!(result,Pair(idx, i.length))\n",
    "        idx = 0\n",
    "    end\n",
    "    return result\n",
    "end;"
   ]
  },
  {
   "cell_type": "code",
   "execution_count": 53,
   "id": "c06ed9cc",
   "metadata": {},
   "outputs": [
    {
     "data": {
      "text/plain": [
       "6-element Vector{Any}:\n",
       " 3 => 4.249\n",
       " 0 => 2.457\n",
       " 1 => 2.064\n",
       " 2 => 2.064\n",
       " 6 => 0.393\n",
       " 3 => 1.793"
      ]
     },
     "execution_count": 53,
     "metadata": {},
     "output_type": "execute_result"
    }
   ],
   "source": [
    "get_bipartition(tree, 4)"
   ]
  },
  {
   "cell_type": "code",
   "execution_count": 190,
   "id": "eebcbad8",
   "metadata": {},
   "outputs": [
    {
     "data": {
      "text/plain": [
       "print_bipartition (generic function with 1 method)"
      ]
     },
     "execution_count": 190,
     "metadata": {},
     "output_type": "execute_result"
    }
   ],
   "source": [
    "function print_bipartition(trees, n)\n",
    "    \n",
    "    # build the table\n",
    "    N = num_bipartitions(n)\n",
    "    data = zeros(length(trees), N)\n",
    "    treeNum = 1;\n",
    "    # get existing index\n",
    "    \n",
    "    for i in trees\n",
    "        bipart = get_bipartition(i, n)\n",
    "        for j in 1:length(bipart)\n",
    "            data[treeNum,(bipart[j][1] + 1)] += bipart[j][2]\n",
    "        end\n",
    "        treeNum+=1\n",
    "    end\n",
    "    return data\n",
    "end;"
   ]
  },
  {
   "cell_type": "code",
   "execution_count": 202,
   "id": "4bf797ab",
   "metadata": {},
   "outputs": [],
   "source": [
    "using CSV, DataFrames\n",
    "\n",
    "function print_csv(path, n, target)\n",
    "    tree = readMultiTopology(path)\n",
    "    result = print_bipartition(tree, n)\n",
    "    N = num_bipartitions(n)\n",
    "    header = Vector(0:N - 1)\n",
    "    header = string.(header)\n",
    "    CSV.write(target, DataFrame(result, :auto),header = header) \n",
    "end;"
   ]
  },
  {
   "cell_type": "code",
   "execution_count": 208,
   "id": "9dc3ac10",
   "metadata": {},
   "outputs": [],
   "source": [
    "print_csv(\"data/rawdata/one.trees\", 4, \"data/one.csv\");\n",
    "print_csv(\"data/rawdata/two.trees\", 4, \"data/two.csv\");"
   ]
  },
  {
   "cell_type": "code",
   "execution_count": 209,
   "id": "77af79e1",
   "metadata": {},
   "outputs": [],
   "source": [
    "print_csv(\"data/rawdata/8_taxa_1.trees\", 8, \"data/8_one.csv\");\n",
    "print_csv(\"data/rawdata/8_taxa_2.trees\", 8, \"data/8_two.csv\");"
   ]
  },
  {
   "cell_type": "code",
   "execution_count": 210,
   "id": "8133f833",
   "metadata": {},
   "outputs": [],
   "source": [
    "print_csv(\"data/rawdata/5_taxa_1.trees\", 5, \"data/5_one.csv\");"
   ]
  },
  {
   "cell_type": "code",
   "execution_count": null,
   "id": "3d13e14d",
   "metadata": {},
   "outputs": [],
   "source": []
  }
 ],
 "metadata": {
  "kernelspec": {
   "display_name": "Julia 1.7.3",
   "language": "julia",
   "name": "julia-1.7"
  },
  "language_info": {
   "file_extension": ".jl",
   "mimetype": "application/julia",
   "name": "julia",
   "version": "1.7.3"
  }
 },
 "nbformat": 4,
 "nbformat_minor": 5
}
