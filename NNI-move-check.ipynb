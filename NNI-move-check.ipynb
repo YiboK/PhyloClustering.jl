{
 "cells": [
  {
   "cell_type": "code",
   "execution_count": 1,
   "id": "269bf4cb",
   "metadata": {},
   "outputs": [],
   "source": [
    "using CSV\n",
    "using JLD\n",
    "using Random\n",
    "using PhyloPlots\n",
    "using DataFrames\n",
    "using SparseArrays\n",
    "using Distributions\n",
    "using Combinatorics\n",
    "using PhyloNetworks\n",
    "using PhyloCoalSimulations\n",
    "using MLBase\n",
    "using Hungarian\n",
    "using LinearAlgebra\n",
    "using ParallelKMeans"
   ]
  },
  {
   "cell_type": "code",
   "execution_count": 2,
   "id": "22d53bea",
   "metadata": {},
   "outputs": [],
   "source": [
    "function num_bipartitions(n)\n",
    "    return 2^(n-1) - 1\n",
    "end;\n",
    "\n",
    "function get_nodes(idx)\n",
    "    nodes = []\n",
    "    for i in 1:length(idx)\n",
    "        if idx[i]\n",
    "            append!(nodes, i)\n",
    "        end\n",
    "    end\n",
    "    return nodes\n",
    "end\n",
    "\n",
    "\n",
    "function get_bipartition(tree, n)\n",
    "    taxa = sort(tipLabels(tree))\n",
    "    if length(taxa) != n\n",
    "        print(\"check the parameter n\")\n",
    "        return\n",
    "    end\n",
    "    node = Vector(1:n)\n",
    "    result = []\n",
    "    idx = 0\n",
    "    for i in tree.edge\n",
    "        node_idx = hardwiredCluster(i,taxa)\n",
    "        branch_node = get_nodes(node_idx)\n",
    "        \n",
    "        # if branch seperates more than half nodes, we use the small part to get bipartition idx\n",
    "        if (length(branch_node) > n ÷ 2)\n",
    "             branch_node = sort(collect(setdiff(node,branch_node)))\n",
    "        end\n",
    "        \n",
    "        # generate all possible combination with the same number of nodes\n",
    "        comb = collect(combinations(Vector(1:n), length(branch_node)))\n",
    "        for c in 1:length(comb)\n",
    "            if comb[c] == branch_node\n",
    "                # if the combination is the later, we need to find its first half\n",
    "                if length(branch_node) > 1 && c > length(comb) ÷ 2\n",
    "                    c = length(comb) - c + 1 \n",
    "                end\n",
    "                idx = c - 1\n",
    "                break\n",
    "            end\n",
    "        end\n",
    "        for j in 1:(length(branch_node) - 1)\n",
    "            idx = idx + binomial(n,j)\n",
    "        end\n",
    "        push!(result,Pair(idx, i.length))\n",
    "        idx = 0\n",
    "    end\n",
    "    return result\n",
    "end;\n",
    "\n",
    "function print_bipartition(trees, n)\n",
    "    \n",
    "    # build the table\n",
    "    N = num_bipartitions(n)\n",
    "    data = zeros(length(trees), N)\n",
    "    treeNum = 1;\n",
    "    # get existing index\n",
    "    \n",
    "    for i in trees\n",
    "        bipart = get_bipartition(i, n)\n",
    "        for j in 1:length(bipart)\n",
    "            data[treeNum,(bipart[j][1] + 1)] += bipart[j][2]\n",
    "        end\n",
    "        treeNum+=1\n",
    "    end\n",
    "    return data\n",
    "end;\n",
    "\n",
    "function simulate_trees(tree, target, i)\n",
    "    d = Uniform(0.5, 2)\n",
    "    Random.seed!(123 + i)\n",
    "    n = length(tree.edge)\n",
    "\n",
    "    x = rand(d, n)\n",
    "    idx = 1\n",
    "    for e in tree.edge\n",
    "        e.length += x[idx]\n",
    "        e.length = round(e.length, digits = 2)\n",
    "        idx += 1\n",
    "    end\n",
    "\n",
    "    tree = simulatecoalescent(tree, 50, 1)\n",
    "    tree = print_bipartition(tree, 8)\n",
    "    tree = sparse(tree)\n",
    "    jldopen(target, \"w\") do file\n",
    "        write(file, \"tree\", tree)\n",
    "    end\n",
    "end;"
   ]
  },
  {
   "cell_type": "code",
   "execution_count": 3,
   "id": "44c10549",
   "metadata": {},
   "outputs": [
    {
     "data": {
      "text/plain": [
       "kmeans_label (generic function with 1 method)"
      ]
     },
     "execution_count": 3,
     "metadata": {},
     "output_type": "execute_result"
    }
   ],
   "source": [
    "function ground_true(df_1, df_2)\n",
    "    a = fill(1,size(df_1)[1])\n",
    "    b = fill(2,size(df_2)[1])\n",
    "    gt = cat(a,b, dims = 1)\n",
    "    return gt\n",
    "end\n",
    "\n",
    "# convert tree from dataframe to matrix. Each column is a tree\n",
    "function standardize_tree(tree)    \n",
    "    data = collect(Matrix(tree)');\n",
    "    \n",
    "    # standardize tree\n",
    "    dt = fit(ZScoreTransform, data, dims=2)\n",
    "    data = StatsBase.transform(dt, data)\n",
    "    \n",
    "    # replace NaN value with 0\n",
    "    replace!(data, NaN=>0)\n",
    "    return data\n",
    "end\n",
    "\n",
    "function plot_clusters(tree, label)\n",
    "    PCA_model = fit(PCA, tree, maxoutdim = 2);\n",
    "    PCA_data = predict(PCA_model,tree)\n",
    "    scatter(PCA_data[1,:], PCA_data[2,:], markersize = 5, color = label)\n",
    "end\n",
    "\n",
    "function accuracy(n, gt, pred)\n",
    "    matrix = confusmat(n, gt, pred)\n",
    "    # Hungarian algorithm minimizes the cost, so we need to transform the matrix\n",
    "    A = -matrix .+ maximum(matrix)    \n",
    "    matrix = matrix[:,hungarian(A)[1]]\n",
    "    x = tr(matrix)/sum(matrix)\n",
    "    return matrix, x\n",
    "end\n",
    "\n",
    "# Kmeans\n",
    "function kmeans_label(tree, n; seed =:\"k-means++\")  \n",
    "    result = kmeans(tree, n; k_init =\"k-means++\");\n",
    "    return result.assignments\n",
    "end"
   ]
  },
  {
   "cell_type": "code",
   "execution_count": 4,
   "id": "2c5b13bf",
   "metadata": {},
   "outputs": [
    {
     "data": {
      "text/plain": [
       "\"(((5:0.0,8:0.0):0.0,(3:0.0,((7:0.0,2:0.0):0.0,(6:0.0,4:0.0):0.0):0.0):0.0):0.0,1:0.0);\""
      ]
     },
     "execution_count": 4,
     "metadata": {},
     "output_type": "execute_result"
    }
   ],
   "source": [
    "Random.seed!(3);\n",
    "base = \"((((6:0.0,7:0.0):0.0,(4:0.0,2:0.0):0.0):0.0,(8:0.0,(5:0.0,3:0.0):0.0):0.0):0.0,1:0.0);\"\n",
    "\n",
    "base_tree = readTopology(base);\n",
    "nni!(base_tree, base_tree.edge[3], true, true);\n",
    "tree1 = writeTopology(base_tree)\n",
    "nni!(base_tree, base_tree.edge[11], true, true);\n",
    "tree2 = writeTopology(base_tree)\n",
    "nni!(base_tree, base_tree.edge[12], true, true);\n",
    "tree3 = writeTopology(base_tree)\n",
    "nni!(base_tree, base_tree.edge[6], true, true);\n",
    "tree4 = writeTopology(base_tree)\n",
    "nni!(base_tree, base_tree.edge[3], true, true);\n",
    "tree5 = writeTopology(base_tree)"
   ]
  },
  {
   "cell_type": "code",
   "execution_count": 5,
   "id": "996e1788",
   "metadata": {
    "scrolled": false
   },
   "outputs": [
    {
     "data": {
      "image/png": "[encoded data removed]"
     },
     "metadata": {},
     "output_type": "display_data"
    },
    {
     "data": {
      "image/png": "[encoded data removed]"
     },
     "metadata": {},
     "output_type": "display_data"
    },
    {
     "data": {
      "image/png": "[encoded data removed]"
     },
     "metadata": {},
     "output_type": "display_data"
    },
    {
     "data": {
      "image/png": "[encoded data removed]"
     },
     "metadata": {},
     "output_type": "display_data"
    },
    {
     "data": {
      "image/png": "[encoded data removed]"
     },
     "metadata": {},
     "output_type": "display_data"
    },
    {
     "data": {
      "image/png": "[encoded data removed]"
     },
     "metadata": {},
     "output_type": "display_data"
    }
   ],
   "source": [
    "tree0 = readTopology(base);\n",
    "plot(tree0, :R, showEdgeLength=true);\n",
    "tree1 = readTopology(tree1);\n",
    "plot(tree1, :R, showEdgeLength=true);\n",
    "tree2 = readTopology(tree2);\n",
    "plot(tree2, :R, showEdgeLength=true);\n",
    "tree3 = readTopology(tree3);\n",
    "plot(tree3, :R, showEdgeLength=true);\n",
    "tree4 = readTopology(tree4);\n",
    "plot(tree4, :R, showEdgeLength=true);\n",
    "tree5 = readTopology(tree5);\n",
    "plot(tree5, :R, showEdgeLength=true);"
   ]
  },
  {
   "cell_type": "code",
   "execution_count": 6,
   "id": "077f4d2c",
   "metadata": {},
   "outputs": [],
   "source": [
    "for i in 1:100\n",
    "    simulate_trees(tree0, \"data/nni/base_0_move_\" * string(i) * \".jld\", i)\n",
    "    simulate_trees(tree1, \"data/nni/base_1_move_\" * string(i) * \".jld\", i)\n",
    "    simulate_trees(tree2, \"data/nni/base_2_move_\" * string(i) * \".jld\", i)\n",
    "    simulate_trees(tree3, \"data/nni/base_3_move_\" * string(i) * \".jld\", i)\n",
    "    simulate_trees(tree4, \"data/nni/base_4_move_\" * string(i) * \".jld\", i)\n",
    "    simulate_trees(tree5, \"data/nni/base_5_move_\" * string(i) * \".jld\", i)\n",
    "end"
   ]
  },
  {
   "cell_type": "code",
   "execution_count": 7,
   "id": "6d44edcd",
   "metadata": {},
   "outputs": [],
   "source": [
    "for k in 1:100\n",
    "    trees = []\n",
    "    for i in 1:6    \n",
    "        path = \"data/nni/base_\" * string(i-1) *\"_move_\" * string(k) * \".jld\"\n",
    "        tree = jldopen(path, \"r\") do file\n",
    "            read(file, \"tree\")\n",
    "        end\n",
    "        push!(trees, tree)\n",
    "    end\n",
    "\n",
    "    n = length(trees)\n",
    "    result = zeros(n, n)\n",
    "\n",
    "    for i in 2:n\n",
    "        for j in  1:(i - 1)\n",
    "            gt = ground_true(trees[i],trees[j])\n",
    "            tree = vcat(trees[i],trees[j])\n",
    "            tree = standardize_tree(tree)\n",
    "            for k in 1:100\n",
    "                pred_kmeans = kmeans_label(tree, 2) \n",
    "                m,x = accuracy(2, gt, pred_kmeans)\n",
    "                if x > result[i,j]\n",
    "                    result[i,j] = x\n",
    "                    result[j,i] = x\n",
    "                end\n",
    "            end\n",
    "        end\n",
    "    end\n",
    "    header = Vector(1:n)\n",
    "    header = string.(header)\n",
    "    CSV.write(\"data/nni/result/nni_reuslt_\"* string(k) * \".csv\", DataFrame(result, :auto), header = header);\n",
    "end"
   ]
  },
  {
   "cell_type": "code",
   "execution_count": null,
   "id": "147dae85",
   "metadata": {},
   "outputs": [],
   "source": []
  },
  {
   "cell_type": "code",
   "execution_count": 23,
   "id": "d96bdc00",
   "metadata": {},
   "outputs": [],
   "source": [
    "using Clustering\n",
    "using CSV\n",
    "using DataFrames"
   ]
  },
  {
   "cell_type": "code",
   "execution_count": 25,
   "id": "25ed5468",
   "metadata": {},
   "outputs": [],
   "source": [
    "trees = []\n",
    "path = \"data/8_diff_topo_1_1000_12.csv\"\n",
    "tree = CSV.read(path, DataFrame);\n",
    "push!(trees, tree)\n",
    "path = \"data/8_diff_topo_7_1000_12.csv\"\n",
    "tree = CSV.read(path, DataFrame);\n",
    "push!(trees, tree);"
   ]
  },
  {
   "cell_type": "code",
   "execution_count": 28,
   "id": "f3b00f03",
   "metadata": {},
   "outputs": [
    {
     "data": {
      "text/plain": [
       "FuzzyCMeansResult: 2 clusters for 2000 points in 127 dimensions (converged in 35 iterations)"
      ]
     },
     "execution_count": 28,
     "metadata": {},
     "output_type": "execute_result"
    }
   ],
   "source": [
    "gt = ground_true(trees[1],trees[2])\n",
    "tree = vcat(trees[1],trees[2])\n",
    "tree = standardize_tree(tree)\n",
    "R = fuzzy_cmeans(tree, 2, 2)"
   ]
  },
  {
   "cell_type": "code",
   "execution_count": 20,
   "id": "e05a15c5",
   "metadata": {},
   "outputs": [
    {
     "ename": "LoadError",
     "evalue": "ArgumentError: provide a valid sink argument, like `using DataFrames; CSV.read(source, DataFrame)`",
     "output_type": "error",
     "traceback": [
      "ArgumentError: provide a valid sink argument, like `using DataFrames; CSV.read(source, DataFrame)`",
      "",
      "Stacktrace:",
      " [1] read(source::String, sink::Nothing; copycols::Bool, kwargs::Base.Pairs{Symbol, Union{}, Tuple{}, NamedTuple{(), Tuple{}}})",
      "   @ CSV C:\\Users\\82537\\.julia\\packages\\CSV\\jFiCn\\src\\CSV.jl:89",
      " [2] read(source::String, sink::Nothing) (repeats 2 times)",
      "   @ CSV C:\\Users\\82537\\.julia\\packages\\CSV\\jFiCn\\src\\CSV.jl:88",
      " [3] top-level scope",
      "   @ In[20]:1",
      " [4] eval",
      "   @ .\\boot.jl:373 [inlined]",
      " [5] include_string(mapexpr::typeof(REPL.softscope), mod::Module, code::String, filename::String)",
      "   @ Base .\\loading.jl:1196"
     ]
    }
   ],
   "source": [
    "for i in 1:100\n",
    "    trees = []\n",
    "    for j in 1:15      \n",
    "        path = \"data/8_diff_topo_\" * string(j) *  \"_1000_\" * string(i) * \".csv\"\n",
    "        tree = CSV.read(path, DataFrame);\n",
    "        push!(trees, tree)\n",
    "    end\n",
    "    kmeans_matrix(trees, \"data/kmeans_8_diff_topo_1000_\" *string(i)* \".csv\");\n",
    "    # gmm_matrix(trees, \"data/GMM_prob_8_topo_1000_\" *string(i)* \".csv\", \"data/GMM_llpg_8_topo_1000_\" *string(i)* \".csv\");\n",
    "end"
   ]
  },
  {
   "cell_type": "code",
   "execution_count": null,
   "id": "108a87d7",
   "metadata": {},
   "outputs": [],
   "source": []
  }
 ],
 "metadata": {
  "kernelspec": {
   "display_name": "Julia 1.7.3",
   "language": "julia",
   "name": "julia-1.7"
  },
  "language_info": {
   "file_extension": ".jl",
   "mimetype": "application/julia",
   "name": "julia",
   "version": "1.7.3"
  }
 },
 "nbformat": 4,
 "nbformat_minor": 5
}
