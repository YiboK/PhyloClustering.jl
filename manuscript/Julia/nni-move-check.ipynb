{
 "cells": [
  {
   "cell_type": "code",
   "execution_count": 1,
   "id": "269bf4cb",
   "metadata": {},
   "outputs": [],
   "source": [
    "using CSV\n",
    "using JLD\n",
    "using Random\n",
    "using PhyloPlots\n",
    "using DataFrames\n",
    "using SparseArrays\n",
    "using Distributions\n",
    "using Combinatorics\n",
    "using PhyloNetworks\n",
    "using PhyloCoalSimulations\n",
    "using MLBase\n",
    "using Hungarian\n",
    "using LinearAlgebra\n",
    "using ParallelKMeans\n",
    "using MultivariateStats\n",
    "using Distances\n",
    "using Clustering\n",
    "using CairoMakie"
   ]
  },
  {
   "cell_type": "code",
   "execution_count": 2,
   "id": "22d53bea",
   "metadata": {},
   "outputs": [],
   "source": [
    "function num_bipartitions(n)\n",
    "    return 2^(n-1) - 1\n",
    "end;\n",
    "\n",
    "function get_nodes(idx)\n",
    "    nodes = []\n",
    "    for i in 1:length(idx)\n",
    "        if idx[i]\n",
    "            append!(nodes, i)\n",
    "        end\n",
    "    end\n",
    "    return nodes\n",
    "end\n",
    "\n",
    "\n",
    "function get_bipartition(tree, n)\n",
    "    taxa = sort(tipLabels(tree))\n",
    "    if length(taxa) != n\n",
    "        print(\"check the parameter n\")\n",
    "        return\n",
    "    end\n",
    "    node = Vector(1:n)\n",
    "    result = []\n",
    "    idx = 0\n",
    "    for i in tree.edge\n",
    "        node_idx = hardwiredCluster(i,taxa)\n",
    "        branch_node = get_nodes(node_idx)\n",
    "        \n",
    "        # if branch seperates more than half nodes, we use the small part to get bipartition idx\n",
    "        if (length(branch_node) > n ÷ 2)\n",
    "             branch_node = sort(collect(setdiff(node,branch_node)))\n",
    "        end\n",
    "        \n",
    "        # generate all possible combination with the same number of nodes\n",
    "        comb = collect(combinations(Vector(1:n), length(branch_node)))\n",
    "        for c in 1:length(comb)\n",
    "            if comb[c] == branch_node\n",
    "                # if the combination is the later, we need to find its first half\n",
    "                if length(branch_node) > 1 && c > length(comb) ÷ 2\n",
    "                    c = length(comb) - c + 1 \n",
    "                end\n",
    "                idx = c - 1\n",
    "                break\n",
    "            end\n",
    "        end\n",
    "        for j in 1:(length(branch_node) - 1)\n",
    "            idx = idx + binomial(n,j)\n",
    "        end\n",
    "        push!(result,Pair(idx, i.length))\n",
    "        idx = 0\n",
    "    end\n",
    "    return result\n",
    "end;\n",
    "\n",
    "function print_bipartition(trees, n)\n",
    "    \n",
    "    # build the table\n",
    "    N = num_bipartitions(n)\n",
    "    data = zeros(length(trees), N)\n",
    "    treeNum = 1;\n",
    "    # get existing index\n",
    "    \n",
    "    for i in trees\n",
    "        bipart = get_bipartition(i, n)\n",
    "        for j in 1:length(bipart)\n",
    "            data[treeNum,(bipart[j][1] + 1)] += bipart[j][2]\n",
    "        end\n",
    "        treeNum+=1\n",
    "    end\n",
    "    return data\n",
    "end;\n",
    "\n",
    "function simulate_trees(tree, target, i, j, n_taxon)\n",
    "    d = Uniform(0.5, 2)\n",
    "    Random.seed!((123 + i) * j)\n",
    "    n = length(tree.edge)\n",
    "\n",
    "    x = rand(d, n)\n",
    "    idx = 1\n",
    "    for e in tree.edge\n",
    "        e.length += x[idx]\n",
    "        e.length = round(e.length, digits = 2)\n",
    "        idx += 1\n",
    "    end\n",
    "\n",
    "    tree = simulatecoalescent(tree, 50, 1)\n",
    "    tree = print_bipartition(tree, n_taxon)\n",
    "    tree = sparse(tree)\n",
    "    jldopen(target, \"w\") do file\n",
    "        write(file, \"tree\", tree)\n",
    "    end\n",
    "end;"
   ]
  },
  {
   "cell_type": "code",
   "execution_count": 13,
   "id": "44c10549",
   "metadata": {},
   "outputs": [
    {
     "data": {
      "text/plain": [
       "plot_clusters (generic function with 1 method)"
      ]
     },
     "execution_count": 13,
     "metadata": {},
     "output_type": "execute_result"
    }
   ],
   "source": [
    "function ground_true(df_1, df_2)\n",
    "    a = fill(1,size(df_1)[1])\n",
    "    b = fill(2,size(df_2)[1])\n",
    "    gt = cat(a,b, dims = 1)\n",
    "    return gt\n",
    "end\n",
    "\n",
    "# convert tree from dataframe to matrix. Each column is a tree\n",
    "function standardize_tree(tree)    \n",
    "    data = collect(Matrix(tree)');\n",
    "    \n",
    "    # standardize tree\n",
    "    dt = fit(ZScoreTransform, data, dims=2)\n",
    "    data = StatsBase.transform(dt, data)\n",
    "    \n",
    "    # replace NaN value with 0\n",
    "    replace!(data, NaN=>0)\n",
    "    return data\n",
    "end\n",
    "\n",
    "function accuracy(n, gt, pred)\n",
    "    matrix = confusmat(n, gt, pred)\n",
    "    # Hungarian algorithm minimizes the cost, so we need to transform the matrix\n",
    "    A = -matrix .+ maximum(matrix)    \n",
    "    matrix = matrix[:,hungarian(A)[1]]\n",
    "    x = tr(matrix)/sum(matrix)\n",
    "    return matrix, x\n",
    "end\n",
    "\n",
    "# Kmeans\n",
    "function kmeans_label(tree, n; seed =:\"k-means++\")  \n",
    "    result = ParallelKMeans.kmeans(Yinyang(), tree, n; k_init =\"k-means++\");\n",
    "    return result.assignments\n",
    "end\n",
    "\n",
    "function plot_clusters(tree, label)\n",
    "    PCA_model = fit(PCA, tree, maxoutdim = 2);\n",
    "    PCA_data = predict(PCA_model,tree)\n",
    "    scatter(PCA_data[1,:], PCA_data[2,:], markersize = 5, color = label)\n",
    "end"
   ]
  },
  {
   "cell_type": "code",
   "execution_count": 4,
   "id": "ead94dc4",
   "metadata": {},
   "outputs": [
    {
     "data": {
      "text/plain": [
       "hc_matrix (generic function with 1 method)"
      ]
     },
     "execution_count": 4,
     "metadata": {},
     "output_type": "execute_result"
    }
   ],
   "source": [
    "function hc_label(matrix; linkage=:ward, k=2 )\n",
    "    H = hclust(matrix,linkage = linkage)\n",
    "    return pred = cutree(H, k=k)\n",
    "end\n",
    "\n",
    "function hc_matrix(trees, path)\n",
    "    n = length(trees)\n",
    "    result = zeros(n, n)\n",
    "    for i in 2:n\n",
    "        for j in  1:(i - 1)\n",
    "            gt = ground_true(trees[i],trees[j])\n",
    "            tree = vcat(trees[i],trees[j])\n",
    "            tree = standardize_tree(tree)\n",
    "            matrix = pairwise(Euclidean(), tree, dims=2)\n",
    "            pred = hc_label(matrix)\n",
    "            m,x = accuracy(2, gt, pred)\n",
    "            result[i,j] = x\n",
    "            result[j,i] = x\n",
    "        end\n",
    "    end      \n",
    "    header = Vector(1:n)\n",
    "    header = string.(header)\n",
    "    CSV.write(path, DataFrame(result, :auto),header = header);\n",
    "end"
   ]
  },
  {
   "cell_type": "code",
   "execution_count": 5,
   "id": "2c5b13bf",
   "metadata": {},
   "outputs": [
    {
     "data": {
      "text/plain": [
       "\"(((5:0.0,8:0.0):0.0,(3:0.0,((7:0.0,2:0.0):0.0,(6:0.0,4:0.0):0.0):0.0):0.0):0.0,1:0.0);\""
      ]
     },
     "execution_count": 5,
     "metadata": {},
     "output_type": "execute_result"
    }
   ],
   "source": [
    "Random.seed!(3);\n",
    "base = \"((((6:0.0,7:0.0):0.0,(4:0.0,2:0.0):0.0):0.0,(8:0.0,(5:0.0,3:0.0):0.0):0.0):0.0,1:0.0);\"\n",
    "\n",
    "base_tree = readTopology(base);\n",
    "nni!(base_tree, base_tree.edge[3], true, true);\n",
    "tree1 = writeTopology(base_tree)\n",
    "nni!(base_tree, base_tree.edge[11], true, true);\n",
    "tree2 = writeTopology(base_tree)\n",
    "nni!(base_tree, base_tree.edge[12], true, true);\n",
    "tree3 = writeTopology(base_tree)\n",
    "nni!(base_tree, base_tree.edge[6], true, true);\n",
    "tree4 = writeTopology(base_tree)\n",
    "nni!(base_tree, base_tree.edge[3], true, true);\n",
    "tree5 = writeTopology(base_tree)"
   ]
  },
  {
   "cell_type": "code",
   "execution_count": 6,
   "id": "996e1788",
   "metadata": {
    "scrolled": false
   },
   "outputs": [
    {
     "data": {
      "image/png": "[encoded data removed]"
     },
     "metadata": {},
     "output_type": "display_data"
    },
    {
     "data": {
      "image/png": "[encoded data removed]"
     },
     "metadata": {},
     "output_type": "display_data"
    },
    {
     "data": {
      "image/png": "[encoded data removed]"
     },
     "metadata": {},
     "output_type": "display_data"
    },
    {
     "data": {
      "image/png": "[encoded data removed]"
     },
     "metadata": {},
     "output_type": "display_data"
    },
    {
     "data": {
      "image/png": "[encoded data removed]"
     },
     "metadata": {},
     "output_type": "display_data"
    },
    {
     "data": {
      "image/png": "[encoded data removed]"
     },
     "metadata": {},
     "output_type": "display_data"
    }
   ],
   "source": [
    "tree0 = readTopology(base);\n",
    "PhyloPlots.plot(tree0, :R, showEdgeLength=true);\n",
    "tree1 = readTopology(tree1);\n",
    "PhyloPlots.plot(tree1, :R, showEdgeLength=true);\n",
    "tree2 = readTopology(tree2);\n",
    "PhyloPlots.plot(tree2, :R, showEdgeLength=true);\n",
    "tree3 = readTopology(tree3);\n",
    "PhyloPlots.plot(tree3, :R, showEdgeLength=true);\n",
    "tree4 = readTopology(tree4);\n",
    "PhyloPlots.plot(tree4, :R, showEdgeLength=true);\n",
    "tree5 = readTopology(tree5);\n",
    "PhyloPlots.plot(tree5, :R, showEdgeLength=true);"
   ]
  },
  {
   "cell_type": "code",
   "execution_count": 11,
   "id": "077f4d2c",
   "metadata": {},
   "outputs": [],
   "source": [
    "for i in 1:100\n",
    "    simulate_trees(tree0, \"../../../data/nni/8_base_0_move_\" * string(i) * \".jld\", i, 1, 8)\n",
    "    simulate_trees(tree1, \"../../../data/nni/8_base_1_move_\" * string(i) * \".jld\", i, 2, 8)\n",
    "    simulate_trees(tree2, \"../../../data/nni/8_base_2_move_\" * string(i) * \".jld\", i, 3, 8)\n",
    "    simulate_trees(tree3, \"../../../data/nni/8_base_3_move_\" * string(i) * \".jld\", i, 4, 8)\n",
    "    simulate_trees(tree4, \"../../../data/nni/8_base_4_move_\" * string(i) * \".jld\", i, 5, 8)\n",
    "    simulate_trees(tree5, \"../../../data/nni/8_base_5_move_\" * string(i) * \".jld\", i, 6, 8)\n",
    "end"
   ]
  },
  {
   "cell_type": "code",
   "execution_count": 14,
   "id": "6d44edcd",
   "metadata": {},
   "outputs": [],
   "source": [
    "for k in 1:100\n",
    "    trees = []\n",
    "    for i in 1:6    \n",
    "        path = \"../../../data/nni/8_base_\" * string(i-1) *\"_move_\" * string(k) * \".jld\"\n",
    "        tree = jldopen(path, \"r\") do file\n",
    "            read(file, \"tree\")\n",
    "        end\n",
    "        push!(trees, tree)\n",
    "    end\n",
    "\n",
    "    n = length(trees)\n",
    "    result = zeros(n, n)\n",
    "\n",
    "    for i in 2:n\n",
    "        for j in  1:(i - 1)\n",
    "            gt = ground_true(trees[i],trees[j])\n",
    "            tree = vcat(trees[i],trees[j])\n",
    "            tree = standardize_tree(tree)\n",
    "            for k in 1:100\n",
    "                pred_kmeans = kmeans_label(tree, 2) \n",
    "                m,x = accuracy(2, gt, pred_kmeans)\n",
    "                if x > result[i,j]\n",
    "                    result[i,j] = x\n",
    "                    result[j,i] = x\n",
    "                end\n",
    "            end\n",
    "        end\n",
    "    end\n",
    "    header = Vector(1:n)\n",
    "    header = string.(header)\n",
    "    CSV.write(\"../../../data/nni/result/kmeans_nni_8_reuslt_\"* string(k) * \".csv\", DataFrame(result, :auto), header = header);\n",
    "end"
   ]
  },
  {
   "cell_type": "code",
   "execution_count": 15,
   "id": "7cb8bb51",
   "metadata": {},
   "outputs": [],
   "source": [
    "for k in 1:100\n",
    "    trees = []\n",
    "    for i in 1:6    \n",
    "        path = \"../../../data/nni/8_base_\" * string(i-1) *\"_move_\" * string(k) * \".jld\"\n",
    "        tree = jldopen(path, \"r\") do file\n",
    "            read(file, \"tree\")\n",
    "        end\n",
    "        push!(trees, tree)\n",
    "    end\n",
    "\n",
    "    n = length(trees)\n",
    "    result = zeros(n, n)\n",
    "\n",
    "    for i in 2:n\n",
    "        for j in  1:(i - 1)\n",
    "            gt = ground_true(trees[i],trees[j])\n",
    "            tree = vcat(trees[i],trees[j])\n",
    "            tree = standardize_tree(tree)\n",
    "            matrix = pairwise(Euclidean(), tree, dims=2)\n",
    "            pred = hc_label(matrix)\n",
    "            m,x = accuracy(2, gt, pred)\n",
    "            result[i,j] = x\n",
    "            result[j,i] = x\n",
    "        end\n",
    "    end\n",
    "    header = Vector(1:n)\n",
    "    header = string.(header)\n",
    "    CSV.write(\"../../../data/nni/result/hc_nni_8_reuslt_\"* string(k) * \".csv\", DataFrame(result, :auto), header = header);\n",
    "end"
   ]
  },
  {
   "cell_type": "code",
   "execution_count": 16,
   "id": "dbd40392",
   "metadata": {},
   "outputs": [],
   "source": [
    "Random.seed!(3);\n",
    "base = \"((6:0.0,(10:0.0,7:0.0):0.0):0.0,(((4:0.0,14:0.0):0.0,(((11:0.0,(8:0.0,13:0.0):0.0):0.0,(12:0.0,(5:0.0,(3:0.0,15:0.0):0.0):0.0):0.0):0.0,(1:0.0,(2:0.0,9:0.0):0.0):0.0):0.0):0.0,16:0.0):0.0);\"\n",
    "\n",
    "base_tree = readTopology(base);\n",
    "nni!(base_tree, base_tree.edge[13], true, true)\n",
    "tree1 = writeTopology(base_tree)\n",
    "nni!(base_tree, base_tree.edge[19], true, true)\n",
    "tree2 = writeTopology(base_tree)\n",
    "nni!(base_tree, base_tree.edge[8], true, true)\n",
    "tree3 = writeTopology(base_tree)\n",
    "nni!(base_tree, base_tree.edge[20], true, true)\n",
    "tree4 = writeTopology(base_tree)\n",
    "nni!(base_tree, base_tree.edge[28], true, true)\n",
    "tree5 = writeTopology(base_tree);"
   ]
  },
  {
   "cell_type": "code",
   "execution_count": 17,
   "id": "bc251b8f",
   "metadata": {},
   "outputs": [
    {
     "name": "stdout",
     "output_type": "stream",
     "text": [
      "\\item ((6:0.0,(10:0.0,7:0.0):0.0):0.0,(((4:0.0,14:0.0):0.0,(((11:0.0,(8:0.0,13:0.0):0.0):0.0,(12:0.0,(5:0.0,(3:0.0,15:0.0):0.0):0.0):0.0):0.0,(1:0.0,(2:0.0,9:0.0):0.0):0.0):0.0):0.0,16:0.0):0.0);\n",
      "\\item ((6:0.0,(10:0.0,7:0.0):0.0):0.0,(((4:0.0,14:0.0):0.0,(((11:0.0,(12:0.0,(5:0.0,(3:0.0,15:0.0):0.0):0.0):0.0):0.0,(8:0.0,13:0.0):0.0):0.0,(1:0.0,(2:0.0,9:0.0):0.0):0.0):0.0):0.0,16:0.0):0.0);\n",
      "\\item ((6:0.0,(10:0.0,7:0.0):0.0):0.0,(((4:0.0,14:0.0):0.0,(((11:0.0,((3:0.0,15:0.0):0.0,(5:0.0,12:0.0):0.0):0.0):0.0,(8:0.0,13:0.0):0.0):0.0,(1:0.0,(2:0.0,9:0.0):0.0):0.0):0.0):0.0,16:0.0):0.0);\n",
      "\\item ((6:0.0,(10:0.0,7:0.0):0.0):0.0,(((4:0.0,(((11:0.0,((3:0.0,15:0.0):0.0,(5:0.0,12:0.0):0.0):0.0):0.0,(8:0.0,13:0.0):0.0):0.0,(1:0.0,(2:0.0,9:0.0):0.0):0.0):0.0):0.0,14:0.0):0.0,16:0.0):0.0);\n",
      "\\item ((6:0.0,(10:0.0,7:0.0):0.0):0.0,(((4:0.0,((((5:0.0,12:0.0):0.0,(11:0.0,(3:0.0,15:0.0):0.0):0.0):0.0,(8:0.0,13:0.0):0.0):0.0,(1:0.0,(2:0.0,9:0.0):0.0):0.0):0.0):0.0,14:0.0):0.0,16:0.0):0.0);\n",
      "\\item ((6:0.0,(10:0.0,7:0.0):0.0):0.0,(14:0.0,(16:0.0,(4:0.0,((((5:0.0,12:0.0):0.0,(11:0.0,(3:0.0,15:0.0):0.0):0.0):0.0,(8:0.0,13:0.0):0.0):0.0,(1:0.0,(2:0.0,9:0.0):0.0):0.0):0.0):0.0):0.0):0.0);\n"
     ]
    }
   ],
   "source": [
    "treestring = [base, tree1, tree2, tree3, tree4, tree5]\n",
    "for s in treestring\n",
    "    print(\"\\\\item \" * s * \"\\n\")\n",
    "end"
   ]
  },
  {
   "cell_type": "code",
   "execution_count": 18,
   "id": "9850d315",
   "metadata": {},
   "outputs": [],
   "source": [
    "tree0 = readTopology(base);\n",
    "tree1 = readTopology(tree1);\n",
    "tree2 = readTopology(tree2);\n",
    "tree3 = readTopology(tree3);\n",
    "tree4 = readTopology(tree4);\n",
    "tree5 = readTopology(tree5);"
   ]
  },
  {
   "cell_type": "code",
   "execution_count": 19,
   "id": "a198e268",
   "metadata": {},
   "outputs": [],
   "source": [
    "for i in 1:100\n",
    "    simulate_trees(tree0, \"../../../data/nni/16_base_0_move_\" * string(i) * \".jld\", i, 1, 16)\n",
    "    simulate_trees(tree1, \"../../../data/nni/16_base_1_move_\" * string(i) * \".jld\", i, 2, 16)\n",
    "    simulate_trees(tree2, \"../../../data/nni/16_base_2_move_\" * string(i) * \".jld\", i, 3, 16)\n",
    "    simulate_trees(tree3, \"../../../data/nni/16_base_3_move_\" * string(i) * \".jld\", i, 4, 16)\n",
    "    simulate_trees(tree4, \"../../../data/nni/16_base_4_move_\" * string(i) * \".jld\", i, 5, 16)\n",
    "    simulate_trees(tree5, \"../../../data/nni/16_base_5_move_\" * string(i) * \".jld\", i, 6, 16)\n",
    "end"
   ]
  },
  {
   "cell_type": "code",
   "execution_count": 20,
   "id": "ff3e7390",
   "metadata": {},
   "outputs": [],
   "source": [
    "for k in 1:100\n",
    "    trees = []\n",
    "    for i in 1:6    \n",
    "        path = \"../../../data/nni/16_base_\" * string(i-1) *\"_move_\" * string(k) * \".jld\"\n",
    "        tree = jldopen(path, \"r\") do file\n",
    "            read(file, \"tree\")\n",
    "        end\n",
    "        push!(trees, tree)\n",
    "    end\n",
    "\n",
    "    n = length(trees)\n",
    "    result = zeros(n, n)\n",
    "\n",
    "    for i in 2:n\n",
    "        for j in  1:(i - 1)\n",
    "            gt = ground_true(trees[i],trees[j])\n",
    "            tree = vcat(trees[i],trees[j])\n",
    "            tree = standardize_tree(tree)\n",
    "            for k in 1:10\n",
    "                pred_kmeans = kmeans_label(tree, 2) \n",
    "                m,x = accuracy(2, gt, pred_kmeans)\n",
    "                if x > result[i,j]\n",
    "                    result[i,j] = x\n",
    "                    result[j,i] = x\n",
    "                end\n",
    "            end\n",
    "        end\n",
    "    end\n",
    "    header = Vector(1:n)\n",
    "    header = string.(header)\n",
    "    CSV.write(\"../../../data/nni/result/kmeans_nni_16_reuslt_\"* string(k) * \".csv\", DataFrame(result, :auto), header = header);\n",
    "end"
   ]
  },
  {
   "cell_type": "code",
   "execution_count": 21,
   "id": "347827b5",
   "metadata": {},
   "outputs": [],
   "source": [
    "for k in 1:100\n",
    "    trees = []\n",
    "    for i in 1:6    \n",
    "        path = \"../../../data/nni/16_base_\" * string(i-1) *\"_move_\" * string(k) * \".jld\"\n",
    "        tree = jldopen(path, \"r\") do file\n",
    "            read(file, \"tree\")\n",
    "        end\n",
    "        push!(trees, tree)\n",
    "    end\n",
    "\n",
    "    n = length(trees)\n",
    "    result = zeros(n, n)\n",
    "\n",
    "    for i in 2:n\n",
    "        for j in  1:(i - 1)\n",
    "            gt = ground_true(trees[i],trees[j])\n",
    "            tree = vcat(trees[i],trees[j])\n",
    "            tree = standardize_tree(tree)\n",
    "            matrix = pairwise(Euclidean(), tree, dims=2)\n",
    "            pred = hc_label(matrix)\n",
    "            m,x = accuracy(2, gt, pred)\n",
    "            result[i,j] = x\n",
    "            result[j,i] = x\n",
    "        end\n",
    "    end\n",
    "    header = Vector(1:n)\n",
    "    header = string.(header)\n",
    "    CSV.write(\"../../../data/nni/result/hc_nni_16_reuslt_\"* string(k) * \".csv\", DataFrame(result, :auto), header = header);\n",
    "end"
   ]
  },
  {
   "cell_type": "code",
   "execution_count": 22,
   "id": "df57a89f",
   "metadata": {},
   "outputs": [
    {
     "data": {
      "text/plain": [
       "50×32767 SparseMatrixCSC{Float64, Int64} with 1450 stored entries:\n",
       "⠛⠀⠃⠀⠀⠘⠀⠀⠀⠀⠀⠀⠘⠀⠀⠀⠀⠀⠀⠀⠀⠀⠃⠀⠀⠀⠀⠀⠀⠀⠀⠀⠀⠀⠀⠀⠀⠀⠀⠀"
      ]
     },
     "execution_count": 22,
     "metadata": {},
     "output_type": "execute_result"
    }
   ],
   "source": [
    "tree_1 = jldopen(\"../../../data/nni/8_base_0_move_2.jld\", \"r\") do file\n",
    "    read(file, \"tree\")\n",
    "end\n",
    "\n",
    "tree_2 = jldopen(\"../../../data/nni/8_base_1_move_2.jld\", \"r\") do file\n",
    "    read(file, \"tree\")\n",
    "end\n",
    "\n",
    "tree_3 = jldopen(\"../../../data/nni/16_base_3_move_66.jld\", \"r\") do file\n",
    "    read(file, \"tree\")\n",
    "end\n",
    "\n",
    "tree_4 = jldopen(\"../../../data/nni/16_base_4_move_66.jld\", \"r\") do file\n",
    "    read(file, \"tree\")\n",
    "end"
   ]
  },
  {
   "cell_type": "code",
   "execution_count": 25,
   "id": "44718559",
   "metadata": {},
   "outputs": [
    {
     "data": {
      "image/png": "[encoded data removed]",
      "text/plain": [
       "FigureAxisPlot()"
      ]
     },
     "execution_count": 25,
     "metadata": {},
     "output_type": "execute_result"
    }
   ],
   "source": [
    "tree = vcat(tree_1 ,tree_2)\n",
    "tree = standardize_tree(tree)\n",
    "gt = ground_true(tree_1,tree_2)\n",
    "plot_clusters(tree, gt)"
   ]
  },
  {
   "cell_type": "code",
   "execution_count": 24,
   "id": "e210a686",
   "metadata": {},
   "outputs": [
    {
     "data": {
      "image/png": "[encoded data removed]",
      "text/plain": [
       "FigureAxisPlot()"
      ]
     },
     "execution_count": 24,
     "metadata": {},
     "output_type": "execute_result"
    }
   ],
   "source": [
    "tree = vcat(tree_3 ,tree_4)\n",
    "tree = standardize_tree(tree)\n",
    "gt = ground_true(tree_3,tree_4)\n",
    "plot_clusters(tree, gt)"
   ]
  },
  {
   "cell_type": "code",
   "execution_count": 62,
   "id": "e06b3f02",
   "metadata": {},
   "outputs": [],
   "source": [
    "\"\"\"\n",
    "Random.seed!(3);\n",
    "base = \"((5:0.0,(((31:0.0,26:0.0):0.0,9:00):0.0,(29:0.0,20:0.0):0.0):0.0):0.0,(((27:0.0,10:0.0):0.0,((((12:0.0,(30:0.0,17:0.0):0.0):0.0,((18:0.0,2:0.0):0.0,6:0.0):0.0):0.0,(16:0.0,((8:0.0,22:0.0):0.0,(23:0.0,(((13:0.0,3:0.0):0.0,14:0.0):0.0,((25:0.0,15:0.0):0.0,11:0.0):0.0):0.0):0.0):0.0):0.0):0.0,(((19:0.0,32:0.0):0.0,(4:0.0,(1:0.0,28:0.0):0.0):0.0):0.0,(24:0.0,21:0.0):0.0):0.0):0.0):0.0,7:0.0):0.0);\"\n",
    "\n",
    "base_tree = readTopology(base);\n",
    "nni!(base_tree, base_tree.edge[43], true, true)\n",
    "tree1 = writeTopology(base_tree)\n",
    "nni!(base_tree, base_tree.edge[19], true, true)\n",
    "tree2 = writeTopology(base_tree)\n",
    "nni!(base_tree, base_tree.edge[22], true, true)\n",
    "tree3 = writeTopology(base_tree)\n",
    "nni!(base_tree, base_tree.edge[6], true, true)\n",
    "tree4 = writeTopology(base_tree)\n",
    "nni!(base_tree, base_tree.edge[33], true, true)\n",
    "tree5 = writeTopology(base_tree);\n",
    "\n",
    "tree0 = readTopology(base);\n",
    "tree1 = readTopology(tree1);\n",
    "tree2 = readTopology(tree2);\n",
    "tree3 = readTopology(tree3);\n",
    "tree4 = readTopology(tree4);\n",
    "tree5 = readTopology(tree5);\n",
    "\n",
    "for i in 1:100\n",
    "    simulate_trees(tree0, \"data/nni/32_base_0_move_\" * string(i) * \".jld\", i, 1, 32)\n",
    "    simulate_trees(tree1, \"data/nni/32_base_1_move_\" * string(i) * \".jld\", i, 2, 32)\n",
    "    simulate_trees(tree2, \"data/nni/32_base_2_move_\" * string(i) * \".jld\", i, 3, 32)\n",
    "    simulate_trees(tree3, \"data/nni/32_base_3_move_\" * string(i) * \".jld\", i, 4, 32)\n",
    "    simulate_trees(tree4, \"data/nni/32_base_4_move_\" * string(i) * \".jld\", i, 5, 32)\n",
    "    simulate_trees(tree5, \"data/nni/32_base_5_move_\" * string(i) * \".jld\", i, 6, 32)\n",
    "end\n",
    "\"\"\""
   ]
  }
 ],
 "metadata": {
  "kernelspec": {
   "display_name": "Julia 1.7.3",
   "language": "julia",
   "name": "julia-1.7"
  },
  "language_info": {
   "file_extension": ".jl",
   "mimetype": "application/julia",
   "name": "julia",
   "version": "1.7.3"
  }
 },
 "nbformat": 4,
 "nbformat_minor": 5
}
