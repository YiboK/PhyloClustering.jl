{
 "cells": [
  {
   "cell_type": "code",
   "execution_count": 1,
   "id": "c76db741",
   "metadata": {},
   "outputs": [],
   "source": [
    "using PhyloNetworks"
   ]
  },
  {
   "cell_type": "code",
   "execution_count": 2,
   "id": "251565f6",
   "metadata": {},
   "outputs": [
    {
     "data": {
      "text/plain": [
       "Dict{String, String} with 6 entries:\n",
       "  \"4\" => \"Dog\"\n",
       "  \"1\" => \"African hunting dog\"\n",
       "  \"5\" => \"Golden jackal\"\n",
       "  \"2\" => \"Coyote\"\n",
       "  \"6\" => \"Grey wolf European\"\n",
       "  \"3\" => \"Dhole\""
      ]
     },
     "execution_count": 2,
     "metadata": {},
     "output_type": "execute_result"
    }
   ],
   "source": [
    "animal = Dict(\n",
    "    \"1\" => \"African hunting dog\",\n",
    "    \"2\" => \"Coyote\",\n",
    "    \"3\" => \"Dhole\",\n",
    "    \"4\" => \"Dog\",\n",
    "    \"5\" => \"Golden jackal\",\n",
    "    \"6\" => \"Grey wolf European\"\n",
    ")"
   ]
  },
  {
   "cell_type": "code",
   "execution_count": 3,
   "id": "4f378e86",
   "metadata": {},
   "outputs": [],
   "source": [
    "trees = readMultiTopology(\"dog-data/100k_cluster_1.trees\")\n",
    "\n",
    "for tree in trees\n",
    "    for n in tree.node\n",
    "        if (n.name in [\"1\", \"2\", \"3\", \"4\",\"5\",\"6\"])\n",
    "            n.name = animal[n.name]\n",
    "        end\n",
    "    end\n",
    "end\n",
    "writeMultiTopology(trees, \"dog-data/100k_taxa_cluster_1.trees\")"
   ]
  },
  {
   "cell_type": "code",
   "execution_count": 4,
   "id": "2a2f7408",
   "metadata": {},
   "outputs": [],
   "source": [
    "trees = readMultiTopology(\"dog-data/100k_cluster_2.trees\")\n",
    "\n",
    "for tree in trees\n",
    "    for n in tree.node\n",
    "        if (n.name in [\"1\", \"2\", \"3\", \"4\",\"5\",\"6\"])\n",
    "            n.name = animal[n.name]\n",
    "        end\n",
    "    end\n",
    "end\n",
    "writeMultiTopology(trees, \"dog-data/100k_taxa_cluster_2.trees\")"
   ]
  },
  {
   "cell_type": "code",
   "execution_count": 5,
   "id": "195fb982",
   "metadata": {},
   "outputs": [],
   "source": [
    "trees = readMultiTopology(\"dog-data/200k_cluster_1.trees\")\n",
    "\n",
    "for tree in trees\n",
    "    for n in tree.node\n",
    "        if (n.name in [\"1\", \"2\", \"3\", \"4\",\"5\",\"6\"])\n",
    "            n.name = animal[n.name]\n",
    "        end\n",
    "    end\n",
    "end\n",
    "writeMultiTopology(trees, \"dog-data/200k_taxa_cluster_1.trees\")"
   ]
  },
  {
   "cell_type": "code",
   "execution_count": 6,
   "id": "4f840fe6",
   "metadata": {},
   "outputs": [],
   "source": [
    "trees = readMultiTopology(\"dog-data/200k_cluster_2.trees\")\n",
    "\n",
    "for tree in trees\n",
    "    for n in tree.node\n",
    "        if (n.name in [\"1\", \"2\", \"3\", \"4\",\"5\",\"6\"])\n",
    "            n.name = animal[n.name]\n",
    "        end\n",
    "    end\n",
    "end\n",
    "writeMultiTopology(trees, \"dog-data/200k_taxa_cluster_2.trees\")"
   ]
  },
  {
   "cell_type": "code",
   "execution_count": 11,
   "id": "82d9843d",
   "metadata": {},
   "outputs": [
    {
     "data": {
      "text/plain": [
       "5"
      ]
     },
     "execution_count": 11,
     "metadata": {},
     "output_type": "execute_result"
    }
   ],
   "source": [
    "# trees = readMultiTopology(\"dog-data/100k_cluster_1.trees\")\n",
    "\n",
    "# open(\"dog-data/100k_cluster_1.nexus\", \"w\") do file\n",
    "#     write(file, \"#NEXUS\\nbegin trees;\\n\")\n",
    "#     i = 1\n",
    "#     for tree in trees\n",
    "#         for n in tree.node\n",
    "#             if (n.name in [\"1\", \"2\", \"3\", \"4\",\"5\",\"6\"])\n",
    "#                 n.name = animal[n.name]\n",
    "#             end\n",
    "#         end\n",
    "#         write(file, \"tree TREE_\" * string(n) * \" = \" * writeTopology(tree) * \"\\n\")\n",
    "#         i = i + 1\n",
    "#     end\n",
    "#     write(file, \"End;\\n\")\n",
    "# end"
   ]
  },
  {
   "cell_type": "code",
   "execution_count": null,
   "id": "0c93fc61",
   "metadata": {},
   "outputs": [],
   "source": []
  }
 ],
 "metadata": {
  "kernelspec": {
   "display_name": "Julia 1.7.3",
   "language": "julia",
   "name": "julia-1.7"
  },
  "language_info": {
   "file_extension": ".jl",
   "mimetype": "application/julia",
   "name": "julia",
   "version": "1.7.3"
  }
 },
 "nbformat": 4,
 "nbformat_minor": 5
}
