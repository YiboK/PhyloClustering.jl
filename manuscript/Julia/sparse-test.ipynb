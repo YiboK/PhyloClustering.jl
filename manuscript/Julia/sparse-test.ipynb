{
 "cells": [
  {
   "cell_type": "code",
   "execution_count": 4,
   "id": "fe74c97f",
   "metadata": {},
   "outputs": [],
   "source": [
    "using PhyloNetworks\n",
    "using Combinatorics\n",
    "using Formatting\n",
    "using SparseArrays\n",
    "using Distributions\n",
    "#using Clustering\n",
    "using MultivariateStats\n",
    "using StatsBase\n",
    "using CairoMakie\n",
    "using GaussianMixtures\n",
    "using MLBase\n",
    "using Hungarian\n",
    "using LinearAlgebra\n",
    "using ParallelKMeans"
   ]
  },
  {
   "cell_type": "code",
   "execution_count": 2,
   "id": "4bc4348c",
   "metadata": {},
   "outputs": [
    {
     "data": {
      "text/plain": [
       "plot_clusters (generic function with 1 method)"
      ]
     },
     "execution_count": 2,
     "metadata": {},
     "output_type": "execute_result"
    }
   ],
   "source": [
    "function ground_true(df_1, df_2)\n",
    "    a = fill(1,size(df_1)[1])\n",
    "    b = fill(2,size(df_2)[1])\n",
    "    gt = cat(a,b, dims = 1)\n",
    "    return gt\n",
    "end\n",
    "\n",
    "# convert tree from dataframe to matrix. Each column is a tree\n",
    "function standardize_tree(tree)    \n",
    "    data = collect(Matrix(tree)');\n",
    "    \n",
    "    # standardize tree\n",
    "    dt = fit(ZScoreTransform, data, dims=2)\n",
    "    data = StatsBase.transform(dt, data)\n",
    "    \n",
    "    # replace NaN value with 0\n",
    "    replace!(data, NaN=>0)\n",
    "    return data\n",
    "end\n",
    "\n",
    "function plot_clusters(tree, label)\n",
    "    PCA_model = fit(PCA, tree, maxoutdim = 2);\n",
    "    PCA_data = predict(PCA_model,tree)\n",
    "    scatter(PCA_data[1,:], PCA_data[2,:], markersize = 5, color = label)\n",
    "end"
   ]
  },
  {
   "cell_type": "code",
   "execution_count": 3,
   "id": "01a100e0",
   "metadata": {},
   "outputs": [
    {
     "data": {
      "text/plain": [
       "accuracy (generic function with 1 method)"
      ]
     },
     "execution_count": 3,
     "metadata": {},
     "output_type": "execute_result"
    }
   ],
   "source": [
    "# n is the number of cluters\n",
    "# remember standardize trees for better performance\n",
    "\"\"\"\n",
    "function kmeans_label(tree, n; seed =:kmpp)  \n",
    "    # apply kmeans clustering\n",
    "    # init works like seed of random, Its length should be the same as the number of clusters    \n",
    "    result = kmeans(tree, n, init = seed);\n",
    "    return result.assignments\n",
    "end;\n",
    "\"\"\"\n",
    "\n",
    "# kmeans in ParallelKMeans\n",
    "function kmeans_label(tree, n; seed =:\"k-means++\")  \n",
    "    result = kmeans(tree, n; k_init =\"k-means++\");\n",
    "    return result.assignments\n",
    "end\n",
    "\n",
    "function GMM_label(tree, n; method=:kmeans, kind=:diag)    \n",
    "    data= tree';\n",
    "    gmm=GMM(n,Array(data),method=method, kind=kind);\n",
    "    prob_pos=gmmposterior(gmm,Array(data))[1]\n",
    "    llpg = gmmposterior(gmm,Array(data))[2]\n",
    "    llpg_result = map(argmax, eachrow(llpg))\n",
    "    prob_result = map(argmax, eachrow(prob_pos))\n",
    "    return Pair(llpg_result, prob_result)\n",
    "end;\n",
    "\n",
    "function dbscan_label(tree, radius; min_neighbors = 1, min_cluster_size = 1)   \n",
    "    result = dbscan(tree, radius,min_neighbors = min_neighbors, min_cluster_size = min_cluster_size)   \n",
    "    # get only points in clusters\n",
    "    result = getproperty.(result, :core_indices)\n",
    "    idx = fill(0,length(tree[1,:]))\n",
    "    for i in range(1, length(idx))\n",
    "        if i in result[1]\n",
    "            idx[i] = 1\n",
    "        elseif i in result[2]\n",
    "            idx[i] = 2\n",
    "        end\n",
    "    end\n",
    "    return idx\n",
    "end;\n",
    "# Performance Check\n",
    "\n",
    "function accuracy(n, gt, pred)\n",
    "    matrix = confusmat(n, gt, pred)\n",
    "    # Hungarian algorithm minimizes the cost, so we need to transform the matrix\n",
    "    A = -matrix .+ maximum(matrix)    \n",
    "    matrix = matrix[:,hungarian(A)[1]]\n",
    "    x = tr(matrix)/sum(matrix)\n",
    "    return matrix, x\n",
    "end"
   ]
  },
  {
   "cell_type": "code",
   "execution_count": 4,
   "id": "7c93ffaf",
   "metadata": {},
   "outputs": [],
   "source": [
    "function num_bipartitions(n)\n",
    "    return 2^(n-1) - 1\n",
    "end;\n",
    "\n",
    "function show_bipartitions(n, start=0, stop=nothing)\n",
    "    idx_width = length(string(num_bipartitions(n)))\n",
    "    idx_fmt = FormatSpec(string(\">\", idx_width, \"s\"))\n",
    "    node_width = length(string(n))\n",
    "    node_fmt = FormatSpec(string(\">\", node_width, \"s\"))\n",
    "    idx = 0\n",
    "    node = Vector(1:n)\n",
    "    println(\"idx\\tpartition\")\n",
    "    for i in range(1, n÷2)\n",
    "        \n",
    "        comb = combinations(Vector(1:n), i)\n",
    "        if i == n - i\n",
    "            comb = Iterators.take(comb,  binomial(n,i)÷ 2)\n",
    "        end\n",
    "            \n",
    "        for c in comb\n",
    "            if start <= idx && (stop === nothing || idx <= stop)\n",
    "                printfmt(idx_fmt, idx)\n",
    "                print(\"\\t\")\n",
    "                for e in c\n",
    "                    printfmt(node_fmt, e)\n",
    "                    print(\" \")\n",
    "                end\n",
    "                print(\"| \")\n",
    "                for e in sort(collect(setdiff(node ,Set(c))))\n",
    "                    printfmt(node_fmt, e)\n",
    "                    print(\" \")\n",
    "                end\n",
    "                println()\n",
    "            end\n",
    "            idx += 1\n",
    "        end\n",
    "    end\n",
    "end;\n",
    "\n",
    "function show_bipartition(n, idx)\n",
    "    show_bipartitions(n,idx,idx)\n",
    "end;\n",
    "\n",
    "# get the nodes that the branch has. \n",
    "function get_nodes(idx)\n",
    "    nodes = []\n",
    "    for i in 1:length(idx)\n",
    "        if idx[i]\n",
    "            append!(nodes, i)\n",
    "        end\n",
    "    end\n",
    "    return nodes\n",
    "end\n",
    "\n",
    "\n",
    "function get_bipartition(tree, n)\n",
    "    taxa = sort(tipLabels(tree))\n",
    "    if length(taxa) != n\n",
    "        print(\"check the parameter n\")\n",
    "        return\n",
    "    end\n",
    "    node = Vector(1:n)\n",
    "    result = []\n",
    "    idx = 0\n",
    "    for i in tree.edge\n",
    "        node_idx = hardwiredCluster(i,taxa)\n",
    "        branch_node = get_nodes(node_idx)\n",
    "        \n",
    "        # if branch seperates more than half nodes, we use the small part to get bipartition idx\n",
    "        if (length(branch_node) > n ÷ 2)\n",
    "             branch_node = sort(collect(setdiff(node,branch_node)))\n",
    "        end\n",
    "        \n",
    "        # generate all possible combination with the same number of nodes\n",
    "        comb = collect(combinations(Vector(1:n), length(branch_node)))\n",
    "        for c in 1:length(comb)\n",
    "            if comb[c] == branch_node\n",
    "                # if the combination is the later, we need to find its first half\n",
    "                if length(branch_node) > 1 && c > length(comb) ÷ 2\n",
    "                    c = length(comb) - c + 1 \n",
    "                end\n",
    "                idx = c - 1\n",
    "                break\n",
    "            end\n",
    "        end\n",
    "        for j in 1:(length(branch_node) - 1)\n",
    "            idx = idx + binomial(n,j)\n",
    "        end\n",
    "        push!(result,Pair(idx, i.length))\n",
    "        idx = 0\n",
    "    end\n",
    "    return result\n",
    "end;\n",
    "\n",
    "# trees is dataframe\n",
    "\n",
    "function print_bipartition(trees, n)\n",
    "    \n",
    "    # build the table\n",
    "    N = num_bipartitions(n)\n",
    "    data = zeros(length(trees), N)\n",
    "    treeNum = 1;\n",
    "    # get existing index\n",
    "    \n",
    "    for i in trees\n",
    "        bipart = get_bipartition(i, n)\n",
    "        for j in 1:length(bipart)\n",
    "            data[treeNum,(bipart[j][1] + 1)] += bipart[j][2]\n",
    "        end\n",
    "        treeNum+=1\n",
    "    end\n",
    "    return data\n",
    "end;"
   ]
  },
  {
   "cell_type": "code",
   "execution_count": 5,
   "id": "8281f8fa",
   "metadata": {},
   "outputs": [],
   "source": [
    "tree1 = readMultiTopology(\"data/rawdata/one.trees\")\n",
    "tree1 = print_bipartition(tree1, 4)\n",
    "tree1 = sparse(tree1)\n",
    "\n",
    "tree2 = readMultiTopology(\"data/rawdata/three.trees\")\n",
    "tree2 = print_bipartition(tree2, 4)\n",
    "tree2 = sparse(tree2);"
   ]
  },
  {
   "cell_type": "code",
   "execution_count": 10,
   "id": "c6b89bd9",
   "metadata": {},
   "outputs": [
    {
     "data": {
      "text/plain": [
       "([100 0; 3 97], 0.985)"
      ]
     },
     "execution_count": 10,
     "metadata": {},
     "output_type": "execute_result"
    }
   ],
   "source": [
    "gt = ground_true(tree1,tree2)\n",
    "tree = vcat(tree1,tree2)\n",
    "tree = standardize_tree(tree)\n",
    "pred_kmeans = kmeans_label(tree, 2)\n",
    "m,x = accuracy(2, gt, pred_kmeans)"
   ]
  },
  {
   "cell_type": "code",
   "execution_count": 8,
   "id": "be94d320",
   "metadata": {},
   "outputs": [],
   "source": [
    "using JLD\n",
    "using CSV\n",
    "using DataFrames\n",
    "using JSON"
   ]
  },
  {
   "cell_type": "code",
   "execution_count": 6,
   "id": "bfab6005",
   "metadata": {
    "scrolled": true
   },
   "outputs": [],
   "source": [
    "test = readMultiTopology(\"data/rawdata/16_diff_topo_1_100_1.trees\")\n",
    "test = print_bipartition(test, 16)\n",
    "test = sparse(test);"
   ]
  },
  {
   "cell_type": "code",
   "execution_count": 21,
   "id": "e826b797",
   "metadata": {},
   "outputs": [],
   "source": [
    "jldopen(\"test/test-jld.jld\", \"w\") do file\n",
    "    write(file, \"tree\", test)\n",
    "end"
   ]
  },
  {
   "cell_type": "code",
   "execution_count": 8,
   "id": "26ec1ad1",
   "metadata": {},
   "outputs": [
    {
     "data": {
      "text/plain": [
       "\"test/test-csv.csv\""
      ]
     },
     "execution_count": 8,
     "metadata": {},
     "output_type": "execute_result"
    }
   ],
   "source": [
    "header = Vector(0:15)\n",
    "header = string.(header)\n",
    "CSV.write(\"test/test-csv.csv\", DataFrame(test, :auto),header = header)"
   ]
  },
  {
   "cell_type": "code",
   "execution_count": 14,
   "id": "3f0cafbc",
   "metadata": {},
   "outputs": [
    {
     "data": {
      "text/plain": [
       "13214972"
      ]
     },
     "execution_count": 14,
     "metadata": {},
     "output_type": "execute_result"
    }
   ],
   "source": [
    "data = Dict(\"trees\"=>test)\n",
    "json_string = JSON.json(data)\n",
    "open(\"test/test-json.json\",\"w\") do f \n",
    "    write(f, json_string) \n",
    "end"
   ]
  },
  {
   "cell_type": "code",
   "execution_count": 9,
   "id": "b2fdde39",
   "metadata": {},
   "outputs": [
    {
     "data": {
      "text/plain": [
       "100×32767 SparseMatrixCSC{Float64, Int64} with 2899 stored entries:\n",
       "⠛⠛⠁⠛⠋⠁⠀⠀⠘⠛⠀⠀⠀⠃⠀⠀⠀⠀⠛⠓⠀⠑⠀⠘⠀⠀⠀⠀⠀⠀⠀⠀⠘⠀⠀⠀⠈⠂⠀⠀"
      ]
     },
     "execution_count": 9,
     "metadata": {},
     "output_type": "execute_result"
    }
   ],
   "source": [
    "tree1 = jldopen(\"data/16_diff_topo_3_100_12.jld\", \"r\") do file\n",
    "    read(file, \"tree\")\n",
    "end\n",
    "\n",
    "tree2 = jldopen(\"data/16_diff_topo_5_100_12.jld\", \"r\") do file\n",
    "    read(file, \"tree\")\n",
    "end"
   ]
  },
  {
   "cell_type": "code",
   "execution_count": 16,
   "id": "105c2e9d",
   "metadata": {},
   "outputs": [
    {
     "data": {
      "image/png": "[encoded data removed]",
      "text/plain": [
       "FigureAxisPlot()"
      ]
     },
     "execution_count": 16,
     "metadata": {},
     "output_type": "execute_result"
    }
   ],
   "source": [
    "gt = ground_true(tree1,tree2)\n",
    "tree = vcat(tree1,tree2)\n",
    "tree = standardize_tree(tree)\n",
    "pred_kmeans = kmeans_label(tree, 2)\n",
    "plot_clusters(tree, pred_kmeans)"
   ]
  }
 ],
 "metadata": {
  "kernelspec": {
   "display_name": "Julia 1.7.3",
   "language": "julia",
   "name": "julia-1.7"
  },
  "language_info": {
   "file_extension": ".jl",
   "mimetype": "application/julia",
   "name": "julia",
   "version": "1.7.3"
  }
 },
 "nbformat": 4,
 "nbformat_minor": 5
}
