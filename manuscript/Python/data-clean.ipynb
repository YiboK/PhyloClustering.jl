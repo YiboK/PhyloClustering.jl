{
 "cells": [
  {
   "cell_type": "code",
   "execution_count": 14,
   "id": "d2b6074d",
   "metadata": {},
   "outputs": [],
   "source": [
    "import re\n",
    "from ete3 import Tree"
   ]
  },
  {
   "cell_type": "code",
   "execution_count": 6,
   "id": "cb7b2f7f",
   "metadata": {},
   "outputs": [],
   "source": [
    "name_to_number = {\n",
    "    \"African hunting dog\": \"1\",\n",
    "    \"Coyote\": \"2\",\n",
    "    \"Dhole\": \"3\",\n",
    "    \"Dog\": \"4\",\n",
    "    \"Golden jackal\": \"5\",\n",
    "    \"Grey wolf European\": \"6\"\n",
    "}"
   ]
  },
  {
   "cell_type": "code",
   "execution_count": 10,
   "id": "8b069e2c",
   "metadata": {},
   "outputs": [
    {
     "name": "stdout",
     "output_type": "stream",
     "text": [
      "(((6:0.00253,4:0.00247):0.00105,(1:0.00337,3:0.00339):0.00639):0.00055,(2:0.0038200000000000005,5:0.00202):0.0011);\n"
     ]
    }
   ],
   "source": [
    "def clean_tree(tree_str):\n",
    "    cleaned_str = re.sub(r'\\)(\\d+(\\.\\d+)?)', ')', tree_str.strip())  \n",
    "    cleaned_str = cleaned_str.replace(\" (Eurasian)\", \"\")\n",
    "    \n",
    "    for taxon, number in name_to_number.items():\n",
    "        cleaned_str = re.sub(r'(?<=[,(\\[])' + taxon + r'(?=[:,\\]])', number, cleaned_str)\n",
    "\n",
    "    return cleaned_str\n",
    "\n",
    "\n",
    "tree = \"(((Grey wolf European (Eurasian):0.00253,Dog:0.00247)0.928:0.00105,(African hunting dog:0.00337,Dhole:0.00339)0.869:0.00639)0.844:0.00055,(Coyote:0.0038200000000000005,Golden jackal:0.00202)0.794:0.0011)0.930;\"\n",
    "cleaned_tree = clean_tree(tree)\n",
    "print(cleaned_tree)"
   ]
  },
  {
   "cell_type": "code",
   "execution_count": 16,
   "id": "446deb76",
   "metadata": {},
   "outputs": [],
   "source": [
    "with open('dog-data/dogs_estimated_gene_trees_merged6.txt', 'r') as file:\n",
    "    lines = file.readlines()\n",
    "\n",
    "cleaned_lines = [clean_tree(line) + '\\n' for line in lines]\n",
    "\n",
    "filtered_trees = []\n",
    "\n",
    "for tree_str in cleaned_lines:\n",
    "    tree = Tree(tree_str)\n",
    "    \n",
    "    if len(tree.get_leaves()) >= 6:\n",
    "        filtered_trees.append(tree_str)\n",
    "        \n",
    "        \n",
    "with open('dog-data/dogs_estimated_gene_trees_merged6_cleaned.txt', 'w') as file:\n",
    "    file.writelines(filtered_trees)"
   ]
  },
  {
   "cell_type": "code",
   "execution_count": null,
   "id": "3ff5351f",
   "metadata": {},
   "outputs": [],
   "source": []
  }
 ],
 "metadata": {
  "kernelspec": {
   "display_name": "Python 3 (ipykernel)",
   "language": "python",
   "name": "python3"
  },
  "language_info": {
   "codemirror_mode": {
    "name": "ipython",
    "version": 3
   },
   "file_extension": ".py",
   "mimetype": "text/x-python",
   "name": "python",
   "nbconvert_exporter": "python",
   "pygments_lexer": "ipython3",
   "version": "3.10.9"
  }
 },
 "nbformat": 4,
 "nbformat_minor": 5
}
