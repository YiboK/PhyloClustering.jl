{
 "cells": [
  {
   "cell_type": "code",
   "execution_count": 7,
   "id": "a3a1cb61",
   "metadata": {},
   "outputs": [],
   "source": [
    "using PhyloNetworks\n",
    "using MultivariateStats\n",
    "using StatsBase\n",
    "using DataFrames\n",
    "using SparseArrays\n",
    "using ParallelKMeans\n",
    "using MLBase\n",
    "using Hungarian\n",
    "using LinearAlgebra\n",
    "using CSV"
   ]
  },
  {
   "cell_type": "code",
   "execution_count": 6,
   "id": "1f0e914e",
   "metadata": {},
   "outputs": [
    {
     "data": {
      "text/plain": [
       "rep_kmeans_matrix (generic function with 1 method)"
      ]
     },
     "execution_count": 6,
     "metadata": {},
     "output_type": "execute_result"
    }
   ],
   "source": [
    "function ground_true(df_1, df_2)\n",
    "    a = fill(1,size(df_1)[1])\n",
    "    b = fill(2,size(df_2)[1])\n",
    "    gt = cat(a,b, dims = 1)\n",
    "    return gt\n",
    "end\n",
    "\n",
    "# convert tree from dataframe to matrix. Each column is a tree\n",
    "function standardize_tree(tree)    \n",
    "    data = collect(Matrix(tree)');\n",
    "    \n",
    "    # standardize tree\n",
    "    dt = fit(ZScoreTransform, data, dims=2)\n",
    "    data = StatsBase.transform(dt, data)\n",
    "    \n",
    "    # replace NaN value with 0\n",
    "    replace!(data, NaN=>0)\n",
    "    return data\n",
    "end\n",
    "\n",
    "function plot_clusters(tree, label)\n",
    "    PCA_model = fit(PCA, tree, maxoutdim = 2);\n",
    "    PCA_data = predict(PCA_model,tree)\n",
    "    scatter(PCA_data[1,:], PCA_data[2,:], markersize = 5, color = label)\n",
    "end\n",
    "\n",
    "function accuracy(n, gt, pred)\n",
    "    matrix = confusmat(n, gt, pred)\n",
    "    # Hungarian algorithm minimizes the cost, so we need to transform the matrix\n",
    "    A = -matrix .+ maximum(matrix)    \n",
    "    matrix = matrix[:,hungarian(A)[1]]\n",
    "    x = tr(matrix)/sum(matrix)\n",
    "    return matrix, x\n",
    "end\n",
    "\n",
    "function kmeans_label(tree, n; seed =:\"k-means++\")  \n",
    "    result = kmeans(tree, n; k_init =\"k-means++\");\n",
    "    return result.assignments\n",
    "end\n",
    "\n",
    "function rep_kmeans_matrix(trees, path)\n",
    "    n = length(trees)\n",
    "    result = zeros(n, n)\n",
    "    for i in 2:n\n",
    "        for j in  1:(i - 1)\n",
    "            gt = ground_true(trees[i],trees[j])\n",
    "            tree = vcat(trees[i],trees[j])\n",
    "            tree = standardize_tree(tree)\n",
    "            for k in 1:10\n",
    "                pred_kmeans = kmeans_label(tree, 2) \n",
    "                m,x = accuracy(2, gt, pred_kmeans)\n",
    "                if x > result[i,j]\n",
    "                    result[i,j] = x\n",
    "                    result[j,i] = x\n",
    "                end\n",
    "            end\n",
    "        end\n",
    "    end      \n",
    "    header = Vector(1:n)\n",
    "    header = string.(header)\n",
    "    CSV.write(path, DataFrame(result, :auto),header = header);\n",
    "end"
   ]
  },
  {
   "cell_type": "code",
   "execution_count": 2,
   "id": "67fba049",
   "metadata": {
    "scrolled": false
   },
   "outputs": [],
   "source": [
    "trees = readMultiTopology(\"dog-data/dogs_estimated_gene_trees_merged6_cleaned.txt\");"
   ]
  },
  {
   "cell_type": "code",
   "execution_count": 8,
   "id": "1a89d979",
   "metadata": {},
   "outputs": [
    {
     "ename": "LoadError",
     "evalue": "OutOfMemoryError()",
     "output_type": "error",
     "traceback": [
      "OutOfMemoryError()",
      "",
      "Stacktrace:",
      " [1] Array",
      "   @ .\\boot.jl:459 [inlined]",
      " [2] Array",
      "   @ .\\boot.jl:467 [inlined]",
      " [3] zeros",
      "   @ .\\array.jl:525 [inlined]",
      " [4] zeros",
      "   @ .\\array.jl:522 [inlined]",
      " [5] zeros",
      "   @ .\\array.jl:520 [inlined]",
      " [6] rep_kmeans_matrix(trees::Vector{HybridNetwork}, path::String)",
      "   @ Main .\\In[6]:43",
      " [7] top-level scope",
      "   @ In[8]:1",
      " [8] eval",
      "   @ .\\boot.jl:373 [inlined]",
      " [9] include_string(mapexpr::typeof(REPL.softscope), mod::Module, code::String, filename::String)",
      "   @ Base .\\loading.jl:1196"
     ]
    }
   ],
   "source": [
    "rep_kmeans_matrix(trees, \"dog-data/result.csv\");"
   ]
  },
  {
   "cell_type": "code",
   "execution_count": null,
   "id": "e9baaeaa",
   "metadata": {},
   "outputs": [],
   "source": []
  }
 ],
 "metadata": {
  "kernelspec": {
   "display_name": "Julia 1.7.3",
   "language": "julia",
   "name": "julia-1.7"
  },
  "language_info": {
   "file_extension": ".jl",
   "mimetype": "application/julia",
   "name": "julia",
   "version": "1.7.3"
  }
 },
 "nbformat": 4,
 "nbformat_minor": 5
}
